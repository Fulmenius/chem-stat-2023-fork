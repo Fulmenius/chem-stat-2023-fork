{
 "cells": [
  {
   "cell_type": "markdown",
   "id": "4eec3a0c",
   "metadata": {},
   "source": [
    "# Занятие 4"
   ]
  },
  {
   "cell_type": "markdown",
   "id": "079f8743",
   "metadata": {},
   "source": [
    "## Введение"
   ]
  },
  {
   "cell_type": "markdown",
   "id": "86e9f6c8",
   "metadata": {},
   "source": [
    "Всем привет! Здесь будет материал четвёртого занятия. "
   ]
  },
  {
   "cell_type": "markdown",
   "id": "9131128c",
   "metadata": {},
   "source": [
    "Как вы уже знаете, в математической статистике существует задача проверки статистических гипотез: нулевая гипотеза проверяется против какой-либо альтернативы. Напомню, что в прошлый раз вы занимались проверкой двух выборок на однородность. На этом занятии мы будем проверять на однородность несколького выборок. Но сначала небольшое напоминание."
   ]
  },
  {
   "cell_type": "markdown",
   "id": "95370528",
   "metadata": {},
   "source": [
    "### Напоминание. Сравнение средних двух выборок. Криетрий Стьюдента."
   ]
  },
  {
   "cell_type": "markdown",
   "id": "c04a0209",
   "metadata": {},
   "source": [
    "Для сравнения средних двух выборок можно использовать критерий Стьюдента (или, как его ещё называют, $t$-тест)."
   ]
  },
  {
   "cell_type": "markdown",
   "id": "b88b7244",
   "metadata": {},
   "source": [
    "Стоит отметить, что классический критерий Стьюдента использует предположение о том, что дисперсии равны."
   ]
  },
  {
   "cell_type": "markdown",
   "id": "b11e5215",
   "metadata": {},
   "source": [
    "Рассмотрим следующие гипотезы:\n",
    "<br>$H_0:$ Выборки имеют равные средние,\n",
    "<br>$H_1:$ Выборки имеют различные средние."
   ]
  },
  {
   "cell_type": "markdown",
   "id": "6240c9e9",
   "metadata": {},
   "source": [
    "Пусть есть две независимые нормальные выборки объёма $n_1$ и $n_2$. В случае совпадения дисперсий статистика критерия имеет вид"
   ]
  },
  {
   "cell_type": "markdown",
   "id": "e28f4ff2",
   "metadata": {},
   "source": [
    "$$\n",
    "t = \\frac{\\overline X_1 - \\overline X_2}{s_X \\sqrt{\\frac{1}{n_1}+\\frac{1}{n_2}}} ~,~~s_X=\\sqrt {\\frac{(n_1 - 1)s_1^2 + (n_2 - 1)s_2^2}{n_1 + n_2 - 2}},\n",
    "$$\n",
    "где $s$ – несмещённая оценка дисперсии:\n",
    "$$\n",
    "s^2=\\frac {\\sum^n_{t=1}(X_t-\\overline X)^2}{n-1}\n",
    "$$"
   ]
  },
  {
   "cell_type": "markdown",
   "id": "0f395ea9",
   "metadata": {},
   "source": [
    "Отметим также, что эта статистика имеет распределение Стьюдента $t(n_1 + n_2 - 2)$."
   ]
  },
  {
   "cell_type": "markdown",
   "id": "853de357",
   "metadata": {},
   "source": [
    "## Часть 1. Сравнение дисперсий нескольких выборок."
   ]
  },
  {
   "cell_type": "markdown",
   "id": "9c8c577d",
   "metadata": {},
   "source": [
    "В предположении нормальности выборок для проверки равенства дисперсий нескольких выборок можно использовать криетрий Бартлетта."
   ]
  },
  {
   "cell_type": "markdown",
   "id": "2b3acc34",
   "metadata": {},
   "source": [
    "Пусть все $X_{ij} \\sim \\mathcal{N}(m_j, \\sigma_j), \\:(i = 1, \\dots, n_j, j = 1, \\dots, k)$ независимы, при этом параметры $m_j, \\sigma_j$ неизвестны. Как мы знаем, несмещёнными оценками для параметров сдвига и масштаба являются:"
   ]
  },
  {
   "cell_type": "markdown",
   "id": "a75bb975",
   "metadata": {},
   "source": [
    "$$\n",
    "X_{\\cdot j} = \\dfrac{1}{n_j} \\sum_{i = 1}^{n_j} X_{ij} \\; \\text{и} \\; S_{j}^{2} = \\dfrac{1}{n_j - 1} \\sum_{i = 1}^{n_j}(X_{ij} - X_{\\cdot j})^2.\n",
    "$$"
   ]
  },
  {
   "cell_type": "markdown",
   "id": "9ae46097",
   "metadata": {},
   "source": [
    "Положим $N = n_1 + \\dots + n_k$. Проверяется гипотеза равенства всех дисперсий:\n",
    "<br>$H_0:$ Все выборки имеют равные дисперсии,\n",
    "<br>$H_1:$ Не все выборки имеют равные дисперсии."
   ]
  },
  {
   "cell_type": "markdown",
   "id": "53b4b01b",
   "metadata": {},
   "source": [
    "Статистикой критерия Бартлетта является следующая функция"
   ]
  },
  {
   "cell_type": "markdown",
   "id": "ae809320",
   "metadata": {},
   "source": [
    "$$\n",
    "B = \\dfrac{\\dfrac{1}{N} \\sum_{j = 1}^{k} n_j S_j^2}{\\sqrt[N]{\\prod_{j = 1}^{k}(S_j^2)^{n_j}}}.\n",
    "$$"
   ]
  },
  {
   "cell_type": "markdown",
   "id": "9a2b12da",
   "metadata": {},
   "source": [
    "Если нулевая гипотеза выполняется и все $n_j > 3$, то статистика"
   ]
  },
  {
   "cell_type": "markdown",
   "id": "6ba1957a",
   "metadata": {},
   "source": [
    "$$\n",
    "B^* = \\gamma^{-1} N \\ln{B}, \\text{где } \\gamma = 1 + \\dfrac{1}{3(k - 1) }\\left[\\left( \\sum_{j = 1}^{k} \\dfrac{1}{n_j} \\right) - \\dfrac{1}{N} \\right]\n",
    "$$"
   ]
  },
  {
   "cell_type": "markdown",
   "id": "488752a4",
   "metadata": {},
   "source": [
    "приближённо имеет $\\chi_{k - 1}^2$ распределение."
   ]
  },
  {
   "cell_type": "markdown",
   "id": "9cf4f987",
   "metadata": {},
   "source": [
    "Проверим критерий Бартлетта для следующего набора данных."
   ]
  },
  {
   "cell_type": "code",
   "execution_count": 1,
   "id": "72b82478",
   "metadata": {
    "scrolled": true
   },
   "outputs": [
    {
     "data": {
      "text/html": [
       "<div>\n",
       "<style scoped>\n",
       "    .dataframe tbody tr th:only-of-type {\n",
       "        vertical-align: middle;\n",
       "    }\n",
       "\n",
       "    .dataframe tbody tr th {\n",
       "        vertical-align: top;\n",
       "    }\n",
       "\n",
       "    .dataframe thead th {\n",
       "        text-align: right;\n",
       "    }\n",
       "</style>\n",
       "<table border=\"1\" class=\"dataframe\">\n",
       "  <thead>\n",
       "    <tr style=\"text-align: right;\">\n",
       "      <th></th>\n",
       "      <th>Пласт1</th>\n",
       "      <th>Пласт2</th>\n",
       "      <th>Пласт3</th>\n",
       "      <th>Пласт4</th>\n",
       "      <th>Пласт5</th>\n",
       "      <th>Пласт6</th>\n",
       "      <th>Пласт7</th>\n",
       "      <th>Пласт8</th>\n",
       "    </tr>\n",
       "  </thead>\n",
       "  <tbody>\n",
       "    <tr>\n",
       "      <th>0</th>\n",
       "      <td>1.42</td>\n",
       "      <td>1.42</td>\n",
       "      <td>1.42</td>\n",
       "      <td>1.38</td>\n",
       "      <td>1.36</td>\n",
       "      <td>1.37</td>\n",
       "      <td>1.38</td>\n",
       "      <td>1.32</td>\n",
       "    </tr>\n",
       "    <tr>\n",
       "      <th>1</th>\n",
       "      <td>1.42</td>\n",
       "      <td>1.39</td>\n",
       "      <td>1.38</td>\n",
       "      <td>1.41</td>\n",
       "      <td>1.37</td>\n",
       "      <td>1.34</td>\n",
       "      <td>1.37</td>\n",
       "      <td>1.33</td>\n",
       "    </tr>\n",
       "    <tr>\n",
       "      <th>2</th>\n",
       "      <td>1.41</td>\n",
       "      <td>1.38</td>\n",
       "      <td>1.41</td>\n",
       "      <td>1.41</td>\n",
       "      <td>1.37</td>\n",
       "      <td>1.38</td>\n",
       "      <td>1.36</td>\n",
       "      <td>1.34</td>\n",
       "    </tr>\n",
       "    <tr>\n",
       "      <th>3</th>\n",
       "      <td>1.44</td>\n",
       "      <td>1.38</td>\n",
       "      <td>1.41</td>\n",
       "      <td>1.42</td>\n",
       "      <td>1.39</td>\n",
       "      <td>1.34</td>\n",
       "      <td>1.37</td>\n",
       "      <td>1.32</td>\n",
       "    </tr>\n",
       "  </tbody>\n",
       "</table>\n",
       "</div>"
      ],
      "text/plain": [
       "   Пласт1  Пласт2  Пласт3  Пласт4  Пласт5  Пласт6  Пласт7  Пласт8\n",
       "0    1.42    1.42    1.42    1.38    1.36    1.37    1.38    1.32\n",
       "1    1.42    1.39    1.38    1.41    1.37    1.34    1.37    1.33\n",
       "2    1.41    1.38    1.41    1.41    1.37    1.38    1.36    1.34\n",
       "3    1.44    1.38    1.41    1.42    1.39    1.34    1.37    1.32"
      ]
     },
     "execution_count": 1,
     "metadata": {},
     "output_type": "execute_result"
    }
   ],
   "source": [
    "import pandas as pd\n",
    "import scipy.stats as stats\n",
    "import seaborn as sns\n",
    "import matplotlib.pyplot as plt\n",
    "pd.set_option('display.max_rows', 100)\n",
    "df = pd.read_excel(\"../Data/Chromium.xls\")\n",
    "df.head()"
   ]
  },
  {
   "cell_type": "markdown",
   "id": "e709a2fb",
   "metadata": {},
   "source": [
    "**Легенда к заданию.**\n",
    "\n",
    "Исследовалось содержание хрома в стальном пруте, разрезанном на пластины. Каждую пластину измеряли несколько раз.\n",
    "* **Пласт** – номер пластины,\n",
    "* **Cr** – содержание хрома (%)."
   ]
  },
  {
   "cell_type": "code",
   "execution_count": 2,
   "id": "b5d00d7f",
   "metadata": {
    "scrolled": true
   },
   "outputs": [
    {
     "data": {
      "text/html": [
       "<div>\n",
       "<style scoped>\n",
       "    .dataframe tbody tr th:only-of-type {\n",
       "        vertical-align: middle;\n",
       "    }\n",
       "\n",
       "    .dataframe tbody tr th {\n",
       "        vertical-align: top;\n",
       "    }\n",
       "\n",
       "    .dataframe thead th {\n",
       "        text-align: right;\n",
       "    }\n",
       "</style>\n",
       "<table border=\"1\" class=\"dataframe\">\n",
       "  <thead>\n",
       "    <tr style=\"text-align: right;\">\n",
       "      <th></th>\n",
       "      <th>Пласт1</th>\n",
       "      <th>Пласт2</th>\n",
       "      <th>Пласт3</th>\n",
       "      <th>Пласт4</th>\n",
       "      <th>Пласт5</th>\n",
       "      <th>Пласт6</th>\n",
       "      <th>Пласт7</th>\n",
       "      <th>Пласт8</th>\n",
       "    </tr>\n",
       "  </thead>\n",
       "  <tbody>\n",
       "    <tr>\n",
       "      <th>0</th>\n",
       "      <td>1.42</td>\n",
       "      <td>1.42</td>\n",
       "      <td>1.42</td>\n",
       "      <td>1.38</td>\n",
       "      <td>1.36</td>\n",
       "      <td>1.37</td>\n",
       "      <td>1.38</td>\n",
       "      <td>1.32</td>\n",
       "    </tr>\n",
       "    <tr>\n",
       "      <th>1</th>\n",
       "      <td>1.42</td>\n",
       "      <td>1.39</td>\n",
       "      <td>1.38</td>\n",
       "      <td>1.41</td>\n",
       "      <td>1.37</td>\n",
       "      <td>1.34</td>\n",
       "      <td>1.37</td>\n",
       "      <td>1.33</td>\n",
       "    </tr>\n",
       "    <tr>\n",
       "      <th>2</th>\n",
       "      <td>1.41</td>\n",
       "      <td>1.38</td>\n",
       "      <td>1.41</td>\n",
       "      <td>1.41</td>\n",
       "      <td>1.37</td>\n",
       "      <td>1.38</td>\n",
       "      <td>1.36</td>\n",
       "      <td>1.34</td>\n",
       "    </tr>\n",
       "    <tr>\n",
       "      <th>3</th>\n",
       "      <td>1.44</td>\n",
       "      <td>1.38</td>\n",
       "      <td>1.41</td>\n",
       "      <td>1.42</td>\n",
       "      <td>1.39</td>\n",
       "      <td>1.34</td>\n",
       "      <td>1.37</td>\n",
       "      <td>1.32</td>\n",
       "    </tr>\n",
       "  </tbody>\n",
       "</table>\n",
       "</div>"
      ],
      "text/plain": [
       "   Пласт1  Пласт2  Пласт3  Пласт4  Пласт5  Пласт6  Пласт7  Пласт8\n",
       "0    1.42    1.42    1.42    1.38    1.36    1.37    1.38    1.32\n",
       "1    1.42    1.39    1.38    1.41    1.37    1.34    1.37    1.33\n",
       "2    1.41    1.38    1.41    1.41    1.37    1.38    1.36    1.34\n",
       "3    1.44    1.38    1.41    1.42    1.39    1.34    1.37    1.32"
      ]
     },
     "metadata": {},
     "output_type": "display_data"
    }
   ],
   "source": [
    "display(df)"
   ]
  },
  {
   "cell_type": "markdown",
   "id": "506d1cd6",
   "metadata": {},
   "source": [
    "Как обычно, давайте вызовем метод `info()`."
   ]
  },
  {
   "cell_type": "code",
   "execution_count": 3,
   "id": "ea48d6b4",
   "metadata": {},
   "outputs": [
    {
     "name": "stdout",
     "output_type": "stream",
     "text": [
      "<class 'pandas.core.frame.DataFrame'>\n",
      "RangeIndex: 4 entries, 0 to 3\n",
      "Data columns (total 8 columns):\n",
      " #   Column  Non-Null Count  Dtype  \n",
      "---  ------  --------------  -----  \n",
      " 0   Пласт1  4 non-null      float64\n",
      " 1   Пласт2  4 non-null      float64\n",
      " 2   Пласт3  4 non-null      float64\n",
      " 3   Пласт4  4 non-null      float64\n",
      " 4   Пласт5  4 non-null      float64\n",
      " 5   Пласт6  4 non-null      float64\n",
      " 6   Пласт7  4 non-null      float64\n",
      " 7   Пласт8  4 non-null      float64\n",
      "dtypes: float64(8)\n",
      "memory usage: 384.0 bytes\n"
     ]
    }
   ],
   "source": [
    "df.info()"
   ]
  },
  {
   "cell_type": "markdown",
   "id": "644f13c3",
   "metadata": {},
   "source": [
    "В этот раз я снова заранее подготовил данные."
   ]
  },
  {
   "cell_type": "markdown",
   "id": "e5e1bab0",
   "metadata": {},
   "source": [
    "Также давайте вызовем метод `describe()`."
   ]
  },
  {
   "cell_type": "code",
   "execution_count": 4,
   "id": "46cb1041",
   "metadata": {},
   "outputs": [
    {
     "data": {
      "text/html": [
       "<div>\n",
       "<style scoped>\n",
       "    .dataframe tbody tr th:only-of-type {\n",
       "        vertical-align: middle;\n",
       "    }\n",
       "\n",
       "    .dataframe tbody tr th {\n",
       "        vertical-align: top;\n",
       "    }\n",
       "\n",
       "    .dataframe thead th {\n",
       "        text-align: right;\n",
       "    }\n",
       "</style>\n",
       "<table border=\"1\" class=\"dataframe\">\n",
       "  <thead>\n",
       "    <tr style=\"text-align: right;\">\n",
       "      <th></th>\n",
       "      <th>Пласт1</th>\n",
       "      <th>Пласт2</th>\n",
       "      <th>Пласт3</th>\n",
       "      <th>Пласт4</th>\n",
       "      <th>Пласт5</th>\n",
       "      <th>Пласт6</th>\n",
       "      <th>Пласт7</th>\n",
       "      <th>Пласт8</th>\n",
       "    </tr>\n",
       "  </thead>\n",
       "  <tbody>\n",
       "    <tr>\n",
       "      <th>count</th>\n",
       "      <td>4.000000</td>\n",
       "      <td>4.00000</td>\n",
       "      <td>4.000000</td>\n",
       "      <td>4.000000</td>\n",
       "      <td>4.000000</td>\n",
       "      <td>4.000000</td>\n",
       "      <td>4.000000</td>\n",
       "      <td>4.000000</td>\n",
       "    </tr>\n",
       "    <tr>\n",
       "      <th>mean</th>\n",
       "      <td>1.422500</td>\n",
       "      <td>1.39250</td>\n",
       "      <td>1.405000</td>\n",
       "      <td>1.405000</td>\n",
       "      <td>1.372500</td>\n",
       "      <td>1.357500</td>\n",
       "      <td>1.370000</td>\n",
       "      <td>1.327500</td>\n",
       "    </tr>\n",
       "    <tr>\n",
       "      <th>std</th>\n",
       "      <td>0.012583</td>\n",
       "      <td>0.01893</td>\n",
       "      <td>0.017321</td>\n",
       "      <td>0.017321</td>\n",
       "      <td>0.012583</td>\n",
       "      <td>0.020616</td>\n",
       "      <td>0.008165</td>\n",
       "      <td>0.009574</td>\n",
       "    </tr>\n",
       "    <tr>\n",
       "      <th>min</th>\n",
       "      <td>1.410000</td>\n",
       "      <td>1.38000</td>\n",
       "      <td>1.380000</td>\n",
       "      <td>1.380000</td>\n",
       "      <td>1.360000</td>\n",
       "      <td>1.340000</td>\n",
       "      <td>1.360000</td>\n",
       "      <td>1.320000</td>\n",
       "    </tr>\n",
       "    <tr>\n",
       "      <th>25%</th>\n",
       "      <td>1.417500</td>\n",
       "      <td>1.38000</td>\n",
       "      <td>1.402500</td>\n",
       "      <td>1.402500</td>\n",
       "      <td>1.367500</td>\n",
       "      <td>1.340000</td>\n",
       "      <td>1.367500</td>\n",
       "      <td>1.320000</td>\n",
       "    </tr>\n",
       "    <tr>\n",
       "      <th>50%</th>\n",
       "      <td>1.420000</td>\n",
       "      <td>1.38500</td>\n",
       "      <td>1.410000</td>\n",
       "      <td>1.410000</td>\n",
       "      <td>1.370000</td>\n",
       "      <td>1.355000</td>\n",
       "      <td>1.370000</td>\n",
       "      <td>1.325000</td>\n",
       "    </tr>\n",
       "    <tr>\n",
       "      <th>75%</th>\n",
       "      <td>1.425000</td>\n",
       "      <td>1.39750</td>\n",
       "      <td>1.412500</td>\n",
       "      <td>1.412500</td>\n",
       "      <td>1.375000</td>\n",
       "      <td>1.372500</td>\n",
       "      <td>1.372500</td>\n",
       "      <td>1.332500</td>\n",
       "    </tr>\n",
       "    <tr>\n",
       "      <th>max</th>\n",
       "      <td>1.440000</td>\n",
       "      <td>1.42000</td>\n",
       "      <td>1.420000</td>\n",
       "      <td>1.420000</td>\n",
       "      <td>1.390000</td>\n",
       "      <td>1.380000</td>\n",
       "      <td>1.380000</td>\n",
       "      <td>1.340000</td>\n",
       "    </tr>\n",
       "  </tbody>\n",
       "</table>\n",
       "</div>"
      ],
      "text/plain": [
       "         Пласт1   Пласт2    Пласт3    Пласт4    Пласт5    Пласт6    Пласт7  \\\n",
       "count  4.000000  4.00000  4.000000  4.000000  4.000000  4.000000  4.000000   \n",
       "mean   1.422500  1.39250  1.405000  1.405000  1.372500  1.357500  1.370000   \n",
       "std    0.012583  0.01893  0.017321  0.017321  0.012583  0.020616  0.008165   \n",
       "min    1.410000  1.38000  1.380000  1.380000  1.360000  1.340000  1.360000   \n",
       "25%    1.417500  1.38000  1.402500  1.402500  1.367500  1.340000  1.367500   \n",
       "50%    1.420000  1.38500  1.410000  1.410000  1.370000  1.355000  1.370000   \n",
       "75%    1.425000  1.39750  1.412500  1.412500  1.375000  1.372500  1.372500   \n",
       "max    1.440000  1.42000  1.420000  1.420000  1.390000  1.380000  1.380000   \n",
       "\n",
       "         Пласт8  \n",
       "count  4.000000  \n",
       "mean   1.327500  \n",
       "std    0.009574  \n",
       "min    1.320000  \n",
       "25%    1.320000  \n",
       "50%    1.325000  \n",
       "75%    1.332500  \n",
       "max    1.340000  "
      ]
     },
     "execution_count": 4,
     "metadata": {},
     "output_type": "execute_result"
    }
   ],
   "source": [
    "df.describe()"
   ]
  },
  {
   "cell_type": "markdown",
   "id": "0f61d9e1",
   "metadata": {},
   "source": [
    "Как мы видим из таблицы наших исходных данных выше, у нас есть 8 пластин – выборок, дисперсии которых и нужно проверить. Давайте придумаем какую-нибудь более изящную функцию для создания выборок, чем просто перечисление столбцов таблицы в качестве аргумента функции."
   ]
  },
  {
   "cell_type": "markdown",
   "id": "1f5bdf09",
   "metadata": {},
   "source": [
    "Сначала заведём список, в который положим названия всех колонок из таблицы. "
   ]
  },
  {
   "cell_type": "code",
   "execution_count": 5,
   "id": "a878ca25",
   "metadata": {},
   "outputs": [
    {
     "name": "stdout",
     "output_type": "stream",
     "text": [
      "['Пласт1', 'Пласт2', 'Пласт3', 'Пласт4', 'Пласт5', 'Пласт6', 'Пласт7', 'Пласт8']\n"
     ]
    }
   ],
   "source": [
    "names = list(df.columns)\n",
    "print(names)"
   ]
  },
  {
   "cell_type": "markdown",
   "id": "e5c8fd95",
   "metadata": {},
   "source": [
    "Будем использовать оператор `*` для автоматического перебора по всем таблицы – распаковки в аргументы функции. Подробнее можно прочитать, например, [тут](https://tproger.ru/translations/asterisks-in-python-what-they-are-and-how-to-use-them/)."
   ]
  },
  {
   "cell_type": "code",
   "execution_count": 7,
   "id": "d458f3f0",
   "metadata": {},
   "outputs": [
    {
     "name": "stdout",
     "output_type": "stream",
     "text": [
      "F: 3.7215025069362024\n",
      "P-value: 0.8112377426908652\n"
     ]
    }
   ],
   "source": [
    "f, p = stats.bartlett(*[df[col] for col in names])\n",
    "print(\"F:\", f)\n",
    "print(\"P-value:\", p)"
   ]
  },
  {
   "cell_type": "markdown",
   "id": "610884b5",
   "metadata": {},
   "source": [
    "Мы получили большое $P$-значение. Значит, достаточно уверенно мы можем принять гипотезу о равенстве дисперсий."
   ]
  },
  {
   "cell_type": "markdown",
   "id": "f36c58df",
   "metadata": {},
   "source": [
    "## Часть 2. Сравнение средних нескольких выборок."
   ]
  },
  {
   "cell_type": "markdown",
   "id": "6daceaf9",
   "metadata": {},
   "source": [
    "Классический критерий Стьюдента существенно использует предположение о нормальности выборок, а также о равенстве дисперсий. Сохраним это требование на случай многих выборок. Тем более, равенство диперсий мы уже проверили."
   ]
  },
  {
   "cell_type": "markdown",
   "id": "3644f3ea",
   "metadata": {},
   "source": [
    "Давайте рассмотрим задачу проверки средних нескольких выборок. Сформулируем следующие гипотезы."
   ]
  },
  {
   "cell_type": "markdown",
   "id": "9880658e",
   "metadata": {},
   "source": [
    "$H_0:$ Все выборки имеют равные средние,\n",
    "<br>$H_1:$ Не все выборки имеют равные средние."
   ]
  },
  {
   "cell_type": "markdown",
   "id": "ec990031",
   "metadata": {},
   "source": [
    "Для выполнения однофакторного дисперсионного анализа будем использовать метод `f_oneway()` из библиотеки `scipy.stats`."
   ]
  },
  {
   "cell_type": "code",
   "execution_count": 8,
   "id": "142acbb7",
   "metadata": {},
   "outputs": [
    {
     "name": "stdout",
     "output_type": "stream",
     "text": [
      "F: 16.26457399103135\n",
      "P-value: 1.0530803541299794e-07\n"
     ]
    }
   ],
   "source": [
    "f, p = stats.f_oneway(*[df[col] for col in names])\n",
    "print(\"F:\", f)\n",
    "print(\"P-value:\", p)"
   ]
  },
  {
   "cell_type": "markdown",
   "id": "b3646299",
   "metadata": {},
   "source": [
    "Что мы видим? Значение статистики большое. $P$-значение при этом очень маленькое. Значит, мы достаточно уверенно можем отклонить гипотезу о равенстве средних."
   ]
  },
  {
   "cell_type": "markdown",
   "id": "55853da1",
   "metadata": {},
   "source": [
    "## Часть 3. Замечание про \"длинный\" формат таблицы и ящики с усами."
   ]
  },
  {
   "cell_type": "markdown",
   "id": "323380be",
   "metadata": {},
   "source": [
    "Наша исходная таблица представлена в \"широком\" формате. Такой формат более удобно читать человеку, но для компьютера лучше годится \"длинный\" формат. Выполним необходимые преобразования, наблюдая разницу."
   ]
  },
  {
   "cell_type": "code",
   "execution_count": 9,
   "id": "41995ddb",
   "metadata": {
    "scrolled": true
   },
   "outputs": [
    {
     "data": {
      "text/html": [
       "<div>\n",
       "<style scoped>\n",
       "    .dataframe tbody tr th:only-of-type {\n",
       "        vertical-align: middle;\n",
       "    }\n",
       "\n",
       "    .dataframe tbody tr th {\n",
       "        vertical-align: top;\n",
       "    }\n",
       "\n",
       "    .dataframe thead th {\n",
       "        text-align: right;\n",
       "    }\n",
       "</style>\n",
       "<table border=\"1\" class=\"dataframe\">\n",
       "  <thead>\n",
       "    <tr style=\"text-align: right;\">\n",
       "      <th></th>\n",
       "      <th>Пласт1</th>\n",
       "      <th>Пласт2</th>\n",
       "      <th>Пласт3</th>\n",
       "      <th>Пласт4</th>\n",
       "      <th>Пласт5</th>\n",
       "      <th>Пласт6</th>\n",
       "      <th>Пласт7</th>\n",
       "      <th>Пласт8</th>\n",
       "    </tr>\n",
       "  </thead>\n",
       "  <tbody>\n",
       "    <tr>\n",
       "      <th>0</th>\n",
       "      <td>1.42</td>\n",
       "      <td>1.42</td>\n",
       "      <td>1.42</td>\n",
       "      <td>1.38</td>\n",
       "      <td>1.36</td>\n",
       "      <td>1.37</td>\n",
       "      <td>1.38</td>\n",
       "      <td>1.32</td>\n",
       "    </tr>\n",
       "    <tr>\n",
       "      <th>1</th>\n",
       "      <td>1.42</td>\n",
       "      <td>1.39</td>\n",
       "      <td>1.38</td>\n",
       "      <td>1.41</td>\n",
       "      <td>1.37</td>\n",
       "      <td>1.34</td>\n",
       "      <td>1.37</td>\n",
       "      <td>1.33</td>\n",
       "    </tr>\n",
       "    <tr>\n",
       "      <th>2</th>\n",
       "      <td>1.41</td>\n",
       "      <td>1.38</td>\n",
       "      <td>1.41</td>\n",
       "      <td>1.41</td>\n",
       "      <td>1.37</td>\n",
       "      <td>1.38</td>\n",
       "      <td>1.36</td>\n",
       "      <td>1.34</td>\n",
       "    </tr>\n",
       "    <tr>\n",
       "      <th>3</th>\n",
       "      <td>1.44</td>\n",
       "      <td>1.38</td>\n",
       "      <td>1.41</td>\n",
       "      <td>1.42</td>\n",
       "      <td>1.39</td>\n",
       "      <td>1.34</td>\n",
       "      <td>1.37</td>\n",
       "      <td>1.32</td>\n",
       "    </tr>\n",
       "  </tbody>\n",
       "</table>\n",
       "</div>"
      ],
      "text/plain": [
       "   Пласт1  Пласт2  Пласт3  Пласт4  Пласт5  Пласт6  Пласт7  Пласт8\n",
       "0    1.42    1.42    1.42    1.38    1.36    1.37    1.38    1.32\n",
       "1    1.42    1.39    1.38    1.41    1.37    1.34    1.37    1.33\n",
       "2    1.41    1.38    1.41    1.41    1.37    1.38    1.36    1.34\n",
       "3    1.44    1.38    1.41    1.42    1.39    1.34    1.37    1.32"
      ]
     },
     "metadata": {},
     "output_type": "display_data"
    }
   ],
   "source": [
    "display(df)"
   ]
  },
  {
   "cell_type": "code",
   "execution_count": 10,
   "id": "de251396",
   "metadata": {},
   "outputs": [],
   "source": [
    "dfMelt = pd.melt(df, var_name = 'plast', value_name = 'value' )"
   ]
  },
  {
   "cell_type": "code",
   "execution_count": 11,
   "id": "ed04bf7b",
   "metadata": {
    "scrolled": true
   },
   "outputs": [
    {
     "name": "stdout",
     "output_type": "stream",
     "text": [
      "     plast  value\n",
      "0   Пласт1   1.42\n",
      "1   Пласт1   1.42\n",
      "2   Пласт1   1.41\n",
      "3   Пласт1   1.44\n",
      "4   Пласт2   1.42\n",
      "5   Пласт2   1.39\n",
      "6   Пласт2   1.38\n",
      "7   Пласт2   1.38\n",
      "8   Пласт3   1.42\n",
      "9   Пласт3   1.38\n",
      "10  Пласт3   1.41\n",
      "11  Пласт3   1.41\n",
      "12  Пласт4   1.38\n",
      "13  Пласт4   1.41\n",
      "14  Пласт4   1.41\n",
      "15  Пласт4   1.42\n",
      "16  Пласт5   1.36\n",
      "17  Пласт5   1.37\n",
      "18  Пласт5   1.37\n",
      "19  Пласт5   1.39\n",
      "20  Пласт6   1.37\n",
      "21  Пласт6   1.34\n",
      "22  Пласт6   1.38\n",
      "23  Пласт6   1.34\n",
      "24  Пласт7   1.38\n",
      "25  Пласт7   1.37\n",
      "26  Пласт7   1.36\n",
      "27  Пласт7   1.37\n",
      "28  Пласт8   1.32\n",
      "29  Пласт8   1.33\n",
      "30  Пласт8   1.34\n",
      "31  Пласт8   1.32\n"
     ]
    }
   ],
   "source": [
    "print(dfMelt)"
   ]
  },
  {
   "cell_type": "code",
   "execution_count": 30,
   "id": "a46a5411",
   "metadata": {
    "scrolled": true
   },
   "outputs": [
    {
     "data": {
      "text/plain": [
       "<AxesSubplot:xlabel='plast', ylabel='value'>"
      ]
     },
     "execution_count": 30,
     "metadata": {},
     "output_type": "execute_result"
    },
    {
     "data": {
      "image/png": "[encoded data removed]",
      "text/plain": [
       "<Figure size 640x480 with 1 Axes>"
      ]
     },
     "metadata": {},
     "output_type": "display_data"
    }
   ],
   "source": [
    "sns.boxplot(x = 'plast', y = 'value', data=dfMelt)"
   ]
  },
  {
   "cell_type": "markdown",
   "id": "05309520",
   "metadata": {},
   "source": [
    "Как следует понимать эти картинки?\n",
    "* Если ящик короткий, а усы – длинные, то это означает, что данные плотно сгруппированы вокруг медианы, и дисперсия маленькая. \n",
    "* Если квадрат длинный, а усы – короткие, это указывает на то, что данные разбросаны, и дисперсия большая."
   ]
  },
  {
   "cell_type": "markdown",
   "id": "61b85bae",
   "metadata": {},
   "source": [
    "## Часть 4. Поиск зависимости дисперсии от среднего."
   ]
  },
  {
   "cell_type": "markdown",
   "id": "0dc30f63",
   "metadata": {},
   "source": [
    "Для начала давайте примением критерий Бартлетта для проверки дисперсий следующего набора данных."
   ]
  },
  {
   "cell_type": "code",
   "execution_count": 13,
   "id": "737c9ca9",
   "metadata": {},
   "outputs": [],
   "source": [
    "dfSamples = pd.read_excel('../Data/Samples.xls')"
   ]
  },
  {
   "cell_type": "code",
   "execution_count": 14,
   "id": "097f7611",
   "metadata": {},
   "outputs": [
    {
     "data": {
      "text/html": [
       "<div>\n",
       "<style scoped>\n",
       "    .dataframe tbody tr th:only-of-type {\n",
       "        vertical-align: middle;\n",
       "    }\n",
       "\n",
       "    .dataframe tbody tr th {\n",
       "        vertical-align: top;\n",
       "    }\n",
       "\n",
       "    .dataframe thead th {\n",
       "        text-align: right;\n",
       "    }\n",
       "</style>\n",
       "<table border=\"1\" class=\"dataframe\">\n",
       "  <thead>\n",
       "    <tr style=\"text-align: right;\">\n",
       "      <th></th>\n",
       "      <th>Обр1</th>\n",
       "      <th>Обр2</th>\n",
       "      <th>Обр3</th>\n",
       "      <th>Обр4</th>\n",
       "      <th>Обр5</th>\n",
       "    </tr>\n",
       "  </thead>\n",
       "  <tbody>\n",
       "    <tr>\n",
       "      <th>0</th>\n",
       "      <td>0.085</td>\n",
       "      <td>0.180</td>\n",
       "      <td>0.487</td>\n",
       "      <td>0.683</td>\n",
       "      <td>0.970</td>\n",
       "    </tr>\n",
       "    <tr>\n",
       "      <th>1</th>\n",
       "      <td>0.090</td>\n",
       "      <td>0.183</td>\n",
       "      <td>0.489</td>\n",
       "      <td>0.684</td>\n",
       "      <td>0.970</td>\n",
       "    </tr>\n",
       "    <tr>\n",
       "      <th>2</th>\n",
       "      <td>0.091</td>\n",
       "      <td>0.187</td>\n",
       "      <td>0.490</td>\n",
       "      <td>0.688</td>\n",
       "      <td>0.972</td>\n",
       "    </tr>\n",
       "    <tr>\n",
       "      <th>3</th>\n",
       "      <td>0.093</td>\n",
       "      <td>0.188</td>\n",
       "      <td>0.490</td>\n",
       "      <td>0.690</td>\n",
       "      <td>0.982</td>\n",
       "    </tr>\n",
       "    <tr>\n",
       "      <th>4</th>\n",
       "      <td>0.095</td>\n",
       "      <td>0.188</td>\n",
       "      <td>0.494</td>\n",
       "      <td>0.690</td>\n",
       "      <td>0.986</td>\n",
       "    </tr>\n",
       "  </tbody>\n",
       "</table>\n",
       "</div>"
      ],
      "text/plain": [
       "    Обр1   Обр2   Обр3   Обр4   Обр5\n",
       "0  0.085  0.180  0.487  0.683  0.970\n",
       "1  0.090  0.183  0.489  0.684  0.970\n",
       "2  0.091  0.187  0.490  0.688  0.972\n",
       "3  0.093  0.188  0.490  0.690  0.982\n",
       "4  0.095  0.188  0.494  0.690  0.986"
      ]
     },
     "execution_count": 14,
     "metadata": {},
     "output_type": "execute_result"
    }
   ],
   "source": [
    "dfSamples.head()"
   ]
  },
  {
   "cell_type": "code",
   "execution_count": 15,
   "id": "eb47da3a",
   "metadata": {},
   "outputs": [
    {
     "name": "stdout",
     "output_type": "stream",
     "text": [
      "<class 'pandas.core.frame.DataFrame'>\n",
      "RangeIndex: 20 entries, 0 to 19\n",
      "Data columns (total 5 columns):\n",
      " #   Column  Non-Null Count  Dtype  \n",
      "---  ------  --------------  -----  \n",
      " 0   Обр1    20 non-null     float64\n",
      " 1   Обр2    20 non-null     float64\n",
      " 2   Обр3    20 non-null     float64\n",
      " 3   Обр4    20 non-null     float64\n",
      " 4   Обр5    20 non-null     float64\n",
      "dtypes: float64(5)\n",
      "memory usage: 928.0 bytes\n"
     ]
    }
   ],
   "source": [
    "dfSamples.info()"
   ]
  },
  {
   "cell_type": "code",
   "execution_count": 16,
   "id": "6b39df2b",
   "metadata": {},
   "outputs": [
    {
     "data": {
      "text/html": [
       "<div>\n",
       "<style scoped>\n",
       "    .dataframe tbody tr th:only-of-type {\n",
       "        vertical-align: middle;\n",
       "    }\n",
       "\n",
       "    .dataframe tbody tr th {\n",
       "        vertical-align: top;\n",
       "    }\n",
       "\n",
       "    .dataframe thead th {\n",
       "        text-align: right;\n",
       "    }\n",
       "</style>\n",
       "<table border=\"1\" class=\"dataframe\">\n",
       "  <thead>\n",
       "    <tr style=\"text-align: right;\">\n",
       "      <th></th>\n",
       "      <th>Обр1</th>\n",
       "      <th>Обр2</th>\n",
       "      <th>Обр3</th>\n",
       "      <th>Обр4</th>\n",
       "      <th>Обр5</th>\n",
       "    </tr>\n",
       "  </thead>\n",
       "  <tbody>\n",
       "    <tr>\n",
       "      <th>count</th>\n",
       "      <td>20.000000</td>\n",
       "      <td>20.000000</td>\n",
       "      <td>20.00000</td>\n",
       "      <td>20.000000</td>\n",
       "      <td>20.000000</td>\n",
       "    </tr>\n",
       "    <tr>\n",
       "      <th>mean</th>\n",
       "      <td>0.100500</td>\n",
       "      <td>0.194900</td>\n",
       "      <td>0.50210</td>\n",
       "      <td>0.703000</td>\n",
       "      <td>0.999850</td>\n",
       "    </tr>\n",
       "    <tr>\n",
       "      <th>std</th>\n",
       "      <td>0.007944</td>\n",
       "      <td>0.009049</td>\n",
       "      <td>0.01167</td>\n",
       "      <td>0.013131</td>\n",
       "      <td>0.016903</td>\n",
       "    </tr>\n",
       "    <tr>\n",
       "      <th>min</th>\n",
       "      <td>0.085000</td>\n",
       "      <td>0.180000</td>\n",
       "      <td>0.48700</td>\n",
       "      <td>0.683000</td>\n",
       "      <td>0.970000</td>\n",
       "    </tr>\n",
       "    <tr>\n",
       "      <th>25%</th>\n",
       "      <td>0.096500</td>\n",
       "      <td>0.189500</td>\n",
       "      <td>0.49400</td>\n",
       "      <td>0.693750</td>\n",
       "      <td>0.989750</td>\n",
       "    </tr>\n",
       "    <tr>\n",
       "      <th>50%</th>\n",
       "      <td>0.101000</td>\n",
       "      <td>0.192500</td>\n",
       "      <td>0.49950</td>\n",
       "      <td>0.703000</td>\n",
       "      <td>1.001000</td>\n",
       "    </tr>\n",
       "    <tr>\n",
       "      <th>75%</th>\n",
       "      <td>0.104250</td>\n",
       "      <td>0.201000</td>\n",
       "      <td>0.50550</td>\n",
       "      <td>0.709500</td>\n",
       "      <td>1.015250</td>\n",
       "    </tr>\n",
       "    <tr>\n",
       "      <th>max</th>\n",
       "      <td>0.120000</td>\n",
       "      <td>0.216000</td>\n",
       "      <td>0.52800</td>\n",
       "      <td>0.736000</td>\n",
       "      <td>1.021000</td>\n",
       "    </tr>\n",
       "  </tbody>\n",
       "</table>\n",
       "</div>"
      ],
      "text/plain": [
       "            Обр1       Обр2      Обр3       Обр4       Обр5\n",
       "count  20.000000  20.000000  20.00000  20.000000  20.000000\n",
       "mean    0.100500   0.194900   0.50210   0.703000   0.999850\n",
       "std     0.007944   0.009049   0.01167   0.013131   0.016903\n",
       "min     0.085000   0.180000   0.48700   0.683000   0.970000\n",
       "25%     0.096500   0.189500   0.49400   0.693750   0.989750\n",
       "50%     0.101000   0.192500   0.49950   0.703000   1.001000\n",
       "75%     0.104250   0.201000   0.50550   0.709500   1.015250\n",
       "max     0.120000   0.216000   0.52800   0.736000   1.021000"
      ]
     },
     "execution_count": 16,
     "metadata": {},
     "output_type": "execute_result"
    }
   ],
   "source": [
    "dfSamples.describe()"
   ]
  },
  {
   "cell_type": "code",
   "execution_count": 18,
   "id": "20499e31",
   "metadata": {},
   "outputs": [
    {
     "name": "stdout",
     "output_type": "stream",
     "text": [
      "F: 13.255157005107282\n",
      "P-value: 0.010094060746970808\n"
     ]
    }
   ],
   "source": [
    "names = list(dfSamples.columns)\n",
    "f, p = stats.bartlett(*[dfSamples[col] for col in names])\n",
    "print(\"F:\", f)\n",
    "print(\"P-value:\", p)"
   ]
  },
  {
   "cell_type": "markdown",
   "id": "b373ac0a",
   "metadata": {},
   "source": [
    "Вновь получаем достаточно маленькое $P$-значение. Следовательно, нулевую гипотезу о равенстве дисперсий можно отклонять. "
   ]
  },
  {
   "cell_type": "markdown",
   "id": "40165e32",
   "metadata": {},
   "source": [
    "Но от чего же зависят значения дисперсий? Самая наивная идея, которая только может здесь возникнуть состоит в том, что значения дисперсий зависят от значений средних. \n",
    "\n",
    "При этом тут есть маленький нюанс, связанный с размерностями: размерности диперсии и среднего не равны. Поэтому вместо дисперсии давайте брать среднеквадратичное отклонение.\n",
    "\n",
    "Проверим эту идею и построим график зависимости отклонения от среднего."
   ]
  },
  {
   "cell_type": "markdown",
   "id": "4e16f081",
   "metadata": {},
   "source": [
    "Зададим какой-нибудь пустой список, который будет содержать пары точек на плоскости для построения графика. Этими парами будут являться `std` и `mean`. "
   ]
  },
  {
   "cell_type": "code",
   "execution_count": 19,
   "id": "88aafffd",
   "metadata": {},
   "outputs": [
    {
     "name": "stdout",
     "output_type": "stream",
     "text": [
      "[[0.007943882121349404, 0.1005], [0.009048989475422976, 0.1949], [0.011670475568716138, 0.5021], [0.013130919717657967, 0.7030000000000001], [0.016903051733185227, 0.99985]]\n"
     ]
    }
   ],
   "source": [
    "dots = []\n",
    "for column in dfSamples.columns:\n",
    "    dots.append([dfSamples[column].std(), dfSamples[column].mean()])\n",
    "print(dots)"
   ]
  },
  {
   "cell_type": "markdown",
   "id": "27f76320",
   "metadata": {},
   "source": [
    "Осталось только построить график! Снова используем оператор `*`, а также метод `zip()`."
   ]
  },
  {
   "cell_type": "code",
   "execution_count": 29,
   "id": "4ede84ad",
   "metadata": {},
   "outputs": [
    {
     "data": {
      "text/plain": [
       "Text(0, 0.5, 'mean')"
      ]
     },
     "execution_count": 29,
     "metadata": {},
     "output_type": "execute_result"
    },
    {
     "data": {
      "image/png": "[encoded data removed]",
      "text/plain": [
       "<Figure size 640x480 with 1 Axes>"
      ]
     },
     "metadata": {},
     "output_type": "display_data"
    }
   ],
   "source": [
    "plt.scatter(*zip(*dots), color = 'red')\n",
    "plt.plot(*zip(*dots), color = 'blue')\n",
    "plt.xlabel('std')\n",
    "plt.ylabel('mean')"
   ]
  },
  {
   "cell_type": "markdown",
   "id": "6677c956",
   "metadata": {},
   "source": [
    "**P.S.** Посмотрите, как работает `zip()`."
   ]
  },
  {
   "cell_type": "markdown",
   "id": "a9051133",
   "metadata": {},
   "source": [
    "> Контрольный вопрос: чем `zip(dots)` отличается от `zip(*dots)`?"
   ]
  },
  {
   "cell_type": "markdown",
   "id": "53525c5e",
   "metadata": {},
   "source": [
    "## Задача."
   ]
  },
  {
   "cell_type": "markdown",
   "id": "cb345a59",
   "metadata": {},
   "source": [
    "Выполнить своё индивидуальное задание."
   ]
  }
 ],
 "metadata": {
  "kernelspec": {
   "display_name": "Python 3 (ipykernel)",
   "language": "python",
   "name": "python3"
  },
  "language_info": {
   "codemirror_mode": {
    "name": "ipython",
    "version": 3
   },
   "file_extension": ".py",
   "mimetype": "text/x-python",
   "name": "python",
   "nbconvert_exporter": "python",
   "pygments_lexer": "ipython3",
   "version": "3.9.13"
  }
 },
 "nbformat": 4,
 "nbformat_minor": 5
}
