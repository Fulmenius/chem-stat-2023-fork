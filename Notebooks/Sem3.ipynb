{
 "cells": [
  {
   "cell_type": "markdown",
   "id": "76947c28",
   "metadata": {},
   "source": [
    "# Занятие 3"
   ]
  },
  {
   "cell_type": "markdown",
   "id": "079f8743",
   "metadata": {},
   "source": [
    "## Введение"
   ]
  },
  {
   "cell_type": "markdown",
   "id": "86e9f6c8",
   "metadata": {},
   "source": [
    "Всем привет! Здесь будет материал третьего занятия. "
   ]
  },
  {
   "cell_type": "markdown",
   "id": "c3734a4f",
   "metadata": {},
   "source": [
    "В качестве введения давайте рассмотрим следующий пример для погружения в контекст – убедитесь, что вы понимаете все слова в этом введении."
   ]
  },
  {
   "cell_type": "markdown",
   "id": "288a6439",
   "metadata": {},
   "source": [
    "Предположим, что собрано много различных экспертов, каждому из которых дан индивидуальный статистический материал, на основании которого надо решить задачу корреляционного анализа, с которой вы уже знакомы. Также предположим, что им нужно принять решение об отвержении гипотезы на уровне значимости $5\\%$. В заключение допустим, что все они исследуют случай независимости. Таким образом, мы будем ожидать, что в среднем $5\\%$ экспертов отвергнут верную гипотезу (иными словами *совершат ошибку I рода*)."
   ]
  },
  {
   "cell_type": "markdown",
   "id": "09e47d39",
   "metadata": {},
   "source": [
    "Пусть $t$ – некоторое положительное значение, при котором соответствующее $P$-значение равно $5\\%$, т. е. $P(r < t) = 0.05$. Для соответствующего отрицательного значения имеем $P(r < -t) = 0.05$."
   ]
  },
  {
   "cell_type": "markdown",
   "id": "55e06799",
   "metadata": {},
   "source": [
    "## Часть 1. Параметрические задачи."
   ]
  },
  {
   "cell_type": "markdown",
   "id": "893820a1",
   "metadata": {},
   "source": [
    "Пусть есть некоторая выборка. В рамках этого задания мы всегда будем предполагать нормальность выборки (иными словами, то, что выборка имеет нормальное распределение)."
   ]
  },
  {
   "cell_type": "markdown",
   "id": "c28fdb66",
   "metadata": {},
   "source": [
    "Также можно думать про это следующим образом: под выборкой будем понимать серию незвисимых изерений некоторой физической величины, т. е. результат измерения можно представить так"
   ]
  },
  {
   "cell_type": "markdown",
   "id": "5bb3ddaf",
   "metadata": {},
   "source": [
    "$$\n",
    "X = a + \\varepsilon,\n",
    "$$"
   ]
  },
  {
   "cell_type": "markdown",
   "id": "e2f5e5b0",
   "metadata": {},
   "source": [
    "где $a$ – истинное значение измеряемой величины (фиксированное, неслучайное, но неизестное заранее); $\\varepsilon$ – погрешность измерения (случайная величина, различная для каждого нового опыта)."
   ]
  },
  {
   "cell_type": "markdown",
   "id": "84a5af4f",
   "metadata": {},
   "source": [
    "Давайте теперь представим погрешность измерения $\\varepsilon$ в виде суммы случайной погрешности $\\varepsilon_0$ с нулевым математическим ожиданием и некоторой фиксированной составляющей $\\mathbb{E}\\varepsilon$, которая есть систематическая погрешность:"
   ]
  },
  {
   "cell_type": "markdown",
   "id": "a2152e8d",
   "metadata": {},
   "source": [
    "$$\n",
    "\\varepsilon = \\varepsilon_0 + \\mathbb{E}\\varepsilon.\n",
    "$$"
   ]
  },
  {
   "cell_type": "markdown",
   "id": "3c3c0bb3",
   "metadata": {},
   "source": [
    "> Более простым языком: вы проводите серию экспериментов на каком-то приборе. Из-за того, что вы не меняете прибор, на котором проводите ваши испытания, ваша систематическая погрешность не изменяется. При этом у вас всегда присутствует некоторая случайная погрешность, которая отличается от испытания к испытанию. "
   ]
  },
  {
   "cell_type": "markdown",
   "id": "c7d21e00",
   "metadata": {},
   "source": [
    "Результат измерения $X$ теперь может быть записан как "
   ]
  },
  {
   "cell_type": "markdown",
   "id": "ee4ebdce",
   "metadata": {},
   "source": [
    "$$\n",
    "X = a + \\varepsilon_0 + \\mathbb{E}\\varepsilon.\n",
    "$$"
   ]
  },
  {
   "cell_type": "markdown",
   "id": "75ef0db9",
   "metadata": {},
   "source": [
    "### 1.1. Нулевая систематическая погрешность. "
   ]
  },
  {
   "cell_type": "markdown",
   "id": "ef1f7a69",
   "metadata": {},
   "source": [
    "Если $\\mathbb{E}\\varepsilon = 0$, то переходя к математическому ожиданию имеем"
   ]
  },
  {
   "cell_type": "markdown",
   "id": "c698fba5",
   "metadata": {},
   "source": [
    "$\n",
    "\\mathbb{E} X = \\mathbb{E} a = a.\n",
    "$"
   ]
  },
  {
   "cell_type": "markdown",
   "id": "1db66114",
   "metadata": {},
   "source": [
    "Таким образом, задача нахождения истинного значения измеряемой величины сводится к задаче оценки математического ожидания выборки."
   ]
  },
  {
   "cell_type": "markdown",
   "id": "69b67615",
   "metadata": {},
   "source": [
    "### 1.2. Ненулевая систематическая погрешность. "
   ]
  },
  {
   "cell_type": "markdown",
   "id": "93d9f361",
   "metadata": {},
   "source": [
    "Если $\\mathbb{E}\\varepsilon \\neq 0$, то переходя к математическому ожиданию имеем"
   ]
  },
  {
   "cell_type": "markdown",
   "id": "a52a9767",
   "metadata": {},
   "source": [
    "$\n",
    "\\mathbb{E} X = \\mathbb{E} a + \\mathbb{E} \\varepsilon \\neq a.\n",
    "$"
   ]
  },
  {
   "cell_type": "markdown",
   "id": "2bd1ac55",
   "metadata": {},
   "source": [
    "В этом случае ничего хорошего не будет, потому что даже не смотря на то, что мы можем определить $\\mathbb{E}X$, нам этого не хватит. Поэтому важно стараться избавиться от систематической погрешности, когда это возможно. "
   ]
  },
  {
   "cell_type": "markdown",
   "id": "a3cedc90",
   "metadata": {},
   "source": [
    "#### Замечание"
   ]
  },
  {
   "cell_type": "markdown",
   "id": "21529b48",
   "metadata": {},
   "source": [
    "Переходя к дисперсии всё в том же равенстве, мы получим"
   ]
  },
  {
   "cell_type": "markdown",
   "id": "40603ea8",
   "metadata": {},
   "source": [
    "$$\n",
    "D X = D \\varepsilon,\n",
    "$$"
   ]
  },
  {
   "cell_type": "markdown",
   "id": "217bb717",
   "metadata": {},
   "source": [
    "т. е. дисперсия действительно определяет случайных разброс результатов измерения вокруг среднего."
   ]
  },
  {
   "cell_type": "markdown",
   "id": "53d27e27",
   "metadata": {},
   "source": [
    "## Часть 2. Сравнение дисперсии двух выборок."
   ]
  },
  {
   "cell_type": "markdown",
   "id": "6a73d9fa",
   "metadata": {},
   "source": [
    "Рассмотрим следующие гипотезы:\n",
    "<br>$H_0:$ Выборки имеют равные дисперсии,\n",
    "<br>$H_1:$ Выборки имеют различные дисперсии."
   ]
  },
  {
   "cell_type": "markdown",
   "id": "6053636e",
   "metadata": {},
   "source": [
    "Для проверки равенства дисперсий мы будем проводить $F$-тест или,как его ещё называют, критерий Фишера (или $F$-критерий)."
   ]
  },
  {
   "cell_type": "markdown",
   "id": "fe270f6a",
   "metadata": {},
   "source": [
    "Статистикой критерия является величина $F$, которая есть отношение точечных оценок дисперсий каждой из выборок:\n",
    "$$\n",
    "F = \\dfrac{\\hat{\\sigma}_X^2}{\\hat{\\sigma}_Y^2}\n",
    "$$"
   ]
  },
  {
   "cell_type": "markdown",
   "id": "de761e0b",
   "metadata": {},
   "source": [
    "Можно доказать, что если дипесии выборок равны при нормальности выборок, то распределение $F$-статистики известно и зависит только от объёмов выборок."
   ]
  },
  {
   "cell_type": "markdown",
   "id": "56882a85",
   "metadata": {},
   "source": [
    "В случае различия дисперсий $F$-статистика будет отклоняться."
   ]
  },
  {
   "cell_type": "markdown",
   "id": "1a29118d",
   "metadata": {},
   "source": [
    "Для двух выборок объёма $m$ и $n$ нормальных случайных величин $X$ и $Y$ соответственно, $F$-статистика будет иметь распределение Фишера $F(m - 1, n - 1)$."
   ]
  },
  {
   "cell_type": "markdown",
   "id": "d9c09ae0",
   "metadata": {},
   "source": [
    "Займёмся наконец делом. "
   ]
  },
  {
   "cell_type": "code",
   "execution_count": 1,
   "id": "9f1a3d0f",
   "metadata": {},
   "outputs": [
    {
     "data": {
      "text/html": [
       "<div>\n",
       "<style scoped>\n",
       "    .dataframe tbody tr th:only-of-type {\n",
       "        vertical-align: middle;\n",
       "    }\n",
       "\n",
       "    .dataframe tbody tr th {\n",
       "        vertical-align: top;\n",
       "    }\n",
       "\n",
       "    .dataframe thead th {\n",
       "        text-align: right;\n",
       "    }\n",
       "</style>\n",
       "<table border=\"1\" class=\"dataframe\">\n",
       "  <thead>\n",
       "    <tr style=\"text-align: right;\">\n",
       "      <th></th>\n",
       "      <th>Метод</th>\n",
       "      <th>CuO</th>\n",
       "      <th>Партия</th>\n",
       "      <th>CuSO4</th>\n",
       "      <th>Группа</th>\n",
       "      <th>N</th>\n",
       "      <th>Место</th>\n",
       "      <th>X</th>\n",
       "      <th>Т(С)</th>\n",
       "      <th>Продукт</th>\n",
       "    </tr>\n",
       "  </thead>\n",
       "  <tbody>\n",
       "    <tr>\n",
       "      <th>0</th>\n",
       "      <td>1.0</td>\n",
       "      <td>38.20</td>\n",
       "      <td>1.0</td>\n",
       "      <td>98.2</td>\n",
       "      <td>1.0</td>\n",
       "      <td>9.29</td>\n",
       "      <td>1.0</td>\n",
       "      <td>26.3</td>\n",
       "      <td>20</td>\n",
       "      <td>2.4</td>\n",
       "    </tr>\n",
       "    <tr>\n",
       "      <th>1</th>\n",
       "      <td>1.0</td>\n",
       "      <td>38.00</td>\n",
       "      <td>1.0</td>\n",
       "      <td>98.7</td>\n",
       "      <td>1.0</td>\n",
       "      <td>9.38</td>\n",
       "      <td>1.0</td>\n",
       "      <td>26.6</td>\n",
       "      <td>20</td>\n",
       "      <td>3.3</td>\n",
       "    </tr>\n",
       "    <tr>\n",
       "      <th>2</th>\n",
       "      <td>1.0</td>\n",
       "      <td>37.66</td>\n",
       "      <td>1.0</td>\n",
       "      <td>97.8</td>\n",
       "      <td>1.0</td>\n",
       "      <td>9.35</td>\n",
       "      <td>1.0</td>\n",
       "      <td>26.1</td>\n",
       "      <td>20</td>\n",
       "      <td>3.4</td>\n",
       "    </tr>\n",
       "    <tr>\n",
       "      <th>3</th>\n",
       "      <td>2.0</td>\n",
       "      <td>37.70</td>\n",
       "      <td>2.0</td>\n",
       "      <td>98.1</td>\n",
       "      <td>1.0</td>\n",
       "      <td>9.43</td>\n",
       "      <td>1.0</td>\n",
       "      <td>26.0</td>\n",
       "      <td>20</td>\n",
       "      <td>3.2</td>\n",
       "    </tr>\n",
       "    <tr>\n",
       "      <th>4</th>\n",
       "      <td>2.0</td>\n",
       "      <td>37.65</td>\n",
       "      <td>2.0</td>\n",
       "      <td>97.7</td>\n",
       "      <td>2.0</td>\n",
       "      <td>9.53</td>\n",
       "      <td>1.0</td>\n",
       "      <td>26.9</td>\n",
       "      <td>20</td>\n",
       "      <td>4.4</td>\n",
       "    </tr>\n",
       "  </tbody>\n",
       "</table>\n",
       "</div>"
      ],
      "text/plain": [
       "   Метод    CuO  Партия  CuSO4  Группа     N  Место     X  Т(С)  Продукт\n",
       "0    1.0  38.20     1.0   98.2     1.0  9.29    1.0  26.3    20      2.4\n",
       "1    1.0  38.00     1.0   98.7     1.0  9.38    1.0  26.6    20      3.3\n",
       "2    1.0  37.66     1.0   97.8     1.0  9.35    1.0  26.1    20      3.4\n",
       "3    2.0  37.70     2.0   98.1     1.0  9.43    1.0  26.0    20      3.2\n",
       "4    2.0  37.65     2.0   97.7     2.0  9.53    1.0  26.9    20      4.4"
      ]
     },
     "execution_count": 1,
     "metadata": {},
     "output_type": "execute_result"
    }
   ],
   "source": [
    "import pandas as pd\n",
    "df = pd.read_excel(\"../Data/Comparisons.xls\")\n",
    "df.head()"
   ]
  },
  {
   "cell_type": "code",
   "execution_count": 2,
   "id": "2ec3e0c6",
   "metadata": {},
   "outputs": [
    {
     "data": {
      "text/html": [
       "<div>\n",
       "<style scoped>\n",
       "    .dataframe tbody tr th:only-of-type {\n",
       "        vertical-align: middle;\n",
       "    }\n",
       "\n",
       "    .dataframe tbody tr th {\n",
       "        vertical-align: top;\n",
       "    }\n",
       "\n",
       "    .dataframe thead th {\n",
       "        text-align: right;\n",
       "    }\n",
       "</style>\n",
       "<table border=\"1\" class=\"dataframe\">\n",
       "  <thead>\n",
       "    <tr style=\"text-align: right;\">\n",
       "      <th></th>\n",
       "      <th>Метод</th>\n",
       "      <th>CuO</th>\n",
       "      <th>Партия</th>\n",
       "      <th>CuSO4</th>\n",
       "      <th>Группа</th>\n",
       "      <th>N</th>\n",
       "      <th>Место</th>\n",
       "      <th>X</th>\n",
       "      <th>Т(С)</th>\n",
       "      <th>Продукт</th>\n",
       "    </tr>\n",
       "  </thead>\n",
       "  <tbody>\n",
       "    <tr>\n",
       "      <th>0</th>\n",
       "      <td>1.0</td>\n",
       "      <td>38.20</td>\n",
       "      <td>1.0</td>\n",
       "      <td>98.2</td>\n",
       "      <td>1.0</td>\n",
       "      <td>9.29</td>\n",
       "      <td>1.0</td>\n",
       "      <td>26.3</td>\n",
       "      <td>20</td>\n",
       "      <td>2.4</td>\n",
       "    </tr>\n",
       "    <tr>\n",
       "      <th>1</th>\n",
       "      <td>1.0</td>\n",
       "      <td>38.00</td>\n",
       "      <td>1.0</td>\n",
       "      <td>98.7</td>\n",
       "      <td>1.0</td>\n",
       "      <td>9.38</td>\n",
       "      <td>1.0</td>\n",
       "      <td>26.6</td>\n",
       "      <td>20</td>\n",
       "      <td>3.3</td>\n",
       "    </tr>\n",
       "    <tr>\n",
       "      <th>2</th>\n",
       "      <td>1.0</td>\n",
       "      <td>37.66</td>\n",
       "      <td>1.0</td>\n",
       "      <td>97.8</td>\n",
       "      <td>1.0</td>\n",
       "      <td>9.35</td>\n",
       "      <td>1.0</td>\n",
       "      <td>26.1</td>\n",
       "      <td>20</td>\n",
       "      <td>3.4</td>\n",
       "    </tr>\n",
       "    <tr>\n",
       "      <th>3</th>\n",
       "      <td>2.0</td>\n",
       "      <td>37.70</td>\n",
       "      <td>2.0</td>\n",
       "      <td>98.1</td>\n",
       "      <td>1.0</td>\n",
       "      <td>9.43</td>\n",
       "      <td>1.0</td>\n",
       "      <td>26.0</td>\n",
       "      <td>20</td>\n",
       "      <td>3.2</td>\n",
       "    </tr>\n",
       "    <tr>\n",
       "      <th>4</th>\n",
       "      <td>2.0</td>\n",
       "      <td>37.65</td>\n",
       "      <td>2.0</td>\n",
       "      <td>97.7</td>\n",
       "      <td>2.0</td>\n",
       "      <td>9.53</td>\n",
       "      <td>1.0</td>\n",
       "      <td>26.9</td>\n",
       "      <td>20</td>\n",
       "      <td>4.4</td>\n",
       "    </tr>\n",
       "    <tr>\n",
       "      <th>5</th>\n",
       "      <td>2.0</td>\n",
       "      <td>37.55</td>\n",
       "      <td>2.0</td>\n",
       "      <td>97.3</td>\n",
       "      <td>2.0</td>\n",
       "      <td>9.48</td>\n",
       "      <td>2.0</td>\n",
       "      <td>26.8</td>\n",
       "      <td>20</td>\n",
       "      <td>3.4</td>\n",
       "    </tr>\n",
       "    <tr>\n",
       "      <th>6</th>\n",
       "      <td>NaN</td>\n",
       "      <td>NaN</td>\n",
       "      <td>NaN</td>\n",
       "      <td>NaN</td>\n",
       "      <td>2.0</td>\n",
       "      <td>9.61</td>\n",
       "      <td>2.0</td>\n",
       "      <td>26.1</td>\n",
       "      <td>80</td>\n",
       "      <td>1.7</td>\n",
       "    </tr>\n",
       "    <tr>\n",
       "      <th>7</th>\n",
       "      <td>NaN</td>\n",
       "      <td>NaN</td>\n",
       "      <td>NaN</td>\n",
       "      <td>NaN</td>\n",
       "      <td>2.0</td>\n",
       "      <td>9.68</td>\n",
       "      <td>2.0</td>\n",
       "      <td>25.9</td>\n",
       "      <td>80</td>\n",
       "      <td>1.6</td>\n",
       "    </tr>\n",
       "    <tr>\n",
       "      <th>8</th>\n",
       "      <td>NaN</td>\n",
       "      <td>NaN</td>\n",
       "      <td>NaN</td>\n",
       "      <td>NaN</td>\n",
       "      <td>NaN</td>\n",
       "      <td>NaN</td>\n",
       "      <td>2.0</td>\n",
       "      <td>26.4</td>\n",
       "      <td>80</td>\n",
       "      <td>2.7</td>\n",
       "    </tr>\n",
       "    <tr>\n",
       "      <th>9</th>\n",
       "      <td>NaN</td>\n",
       "      <td>NaN</td>\n",
       "      <td>NaN</td>\n",
       "      <td>NaN</td>\n",
       "      <td>NaN</td>\n",
       "      <td>9.52</td>\n",
       "      <td>2.0</td>\n",
       "      <td>26.6</td>\n",
       "      <td>80</td>\n",
       "      <td>2.2</td>\n",
       "    </tr>\n",
       "    <tr>\n",
       "      <th>10</th>\n",
       "      <td>NaN</td>\n",
       "      <td>NaN</td>\n",
       "      <td>NaN</td>\n",
       "      <td>NaN</td>\n",
       "      <td>NaN</td>\n",
       "      <td>NaN</td>\n",
       "      <td>NaN</td>\n",
       "      <td>NaN</td>\n",
       "      <td>80</td>\n",
       "      <td>2.7</td>\n",
       "    </tr>\n",
       "    <tr>\n",
       "      <th>11</th>\n",
       "      <td>NaN</td>\n",
       "      <td>NaN</td>\n",
       "      <td>NaN</td>\n",
       "      <td>NaN</td>\n",
       "      <td>NaN</td>\n",
       "      <td>NaN</td>\n",
       "      <td>NaN</td>\n",
       "      <td>NaN</td>\n",
       "      <td>80</td>\n",
       "      <td>2.1</td>\n",
       "    </tr>\n",
       "  </tbody>\n",
       "</table>\n",
       "</div>"
      ],
      "text/plain": [
       "    Метод    CuO  Партия  CuSO4  Группа     N  Место     X  Т(С)  Продукт\n",
       "0     1.0  38.20     1.0   98.2     1.0  9.29    1.0  26.3    20      2.4\n",
       "1     1.0  38.00     1.0   98.7     1.0  9.38    1.0  26.6    20      3.3\n",
       "2     1.0  37.66     1.0   97.8     1.0  9.35    1.0  26.1    20      3.4\n",
       "3     2.0  37.70     2.0   98.1     1.0  9.43    1.0  26.0    20      3.2\n",
       "4     2.0  37.65     2.0   97.7     2.0  9.53    1.0  26.9    20      4.4\n",
       "5     2.0  37.55     2.0   97.3     2.0  9.48    2.0  26.8    20      3.4\n",
       "6     NaN    NaN     NaN    NaN     2.0  9.61    2.0  26.1    80      1.7\n",
       "7     NaN    NaN     NaN    NaN     2.0  9.68    2.0  25.9    80      1.6\n",
       "8     NaN    NaN     NaN    NaN     NaN   NaN    2.0  26.4    80      2.7\n",
       "9     NaN    NaN     NaN    NaN     NaN  9.52    2.0  26.6    80      2.2\n",
       "10    NaN    NaN     NaN    NaN     NaN   NaN    NaN   NaN    80      2.7\n",
       "11    NaN    NaN     NaN    NaN     NaN   NaN    NaN   NaN    80      2.1"
      ]
     },
     "metadata": {},
     "output_type": "display_data"
    }
   ],
   "source": [
    "pd.set_option('display.max_rows', 100)\n",
    "display(df)"
   ]
  },
  {
   "attachments": {},
   "cell_type": "markdown",
   "id": "e709a2fb",
   "metadata": {},
   "source": [
    "**Легенда к заданию.**\n",
    "\n",
    "* Двумя методами измеряли содержание оксида меди в минерале:\n",
    "    * **Метод** – номер метода,\n",
    "    * **CuO** – содержание оксида меди (%).\n",
    "\n",
    "* Измерялось содержание медного купороса в двух партиях товара:\n",
    "    * **Партия** – номер партии,\n",
    "    * **CuSO4**  – содержание медного купороса (%).\n",
    "\n",
    "* Две группы исследователей измеряли содержание азота в одном органическом соединении (правильный результат – внизу столбца N):\n",
    "    * **Группа** – номер группы,\n",
    "    * **N** – содержание азота.\n",
    "\n",
    "* Для проверки гомогенности образца медицинского препарата взяли пробы из верхней и нижней частей контейнера и получили содержание основного компонента:\n",
    "    * **Место** – 1(Верх), 2(Низ),\n",
    "    * **X** – содержание вещества (%).\n",
    "\n",
    "* В технологическом растворе при синтезе красителя определены концентрации продукта (при различной температуре):\n",
    "    * **Т(C)** – температура,\n",
    "    * **Продукт** – концентрация продукта (г/л)."
   ]
  },
  {
   "cell_type": "markdown",
   "id": "98c40261",
   "metadata": {},
   "source": [
    "*С этих пор я убираю куски про форматирование таблиц, предполагая, что вы этому уже научились.*"
   ]
  },
  {
   "cell_type": "code",
   "execution_count": 3,
   "id": "cce1def8",
   "metadata": {},
   "outputs": [
    {
     "name": "stdout",
     "output_type": "stream",
     "text": [
      "<class 'pandas.core.frame.DataFrame'>\n",
      "RangeIndex: 12 entries, 0 to 11\n",
      "Data columns (total 10 columns):\n",
      " #   Column   Non-Null Count  Dtype  \n",
      "---  ------   --------------  -----  \n",
      " 0   Метод    6 non-null      float64\n",
      " 1   CuO      6 non-null      float64\n",
      " 2   Партия   6 non-null      float64\n",
      " 3   CuSO4    6 non-null      float64\n",
      " 4   Группа   8 non-null      float64\n",
      " 5   N        9 non-null      float64\n",
      " 6   Место    10 non-null     float64\n",
      " 7   X        10 non-null     float64\n",
      " 8   Т(С)     12 non-null     int64  \n",
      " 9   Продукт  12 non-null     float64\n",
      "dtypes: float64(9), int64(1)\n",
      "memory usage: 1.1 KB\n"
     ]
    }
   ],
   "source": [
    "df.info()"
   ]
  },
  {
   "cell_type": "code",
   "execution_count": 4,
   "id": "940b7b09",
   "metadata": {},
   "outputs": [],
   "source": [
    "df = df.fillna(0)"
   ]
  },
  {
   "cell_type": "markdown",
   "id": "c6041066",
   "metadata": {},
   "source": [
    "Посмотрим на описательные статистики нашего датафрейма – это не понадобится нам сегодня явно, но мы делаем это для порядка и закрепления материала."
   ]
  },
  {
   "cell_type": "code",
   "execution_count": 5,
   "id": "36f1e576",
   "metadata": {},
   "outputs": [
    {
     "data": {
      "text/html": [
       "<div>\n",
       "<style scoped>\n",
       "    .dataframe tbody tr th:only-of-type {\n",
       "        vertical-align: middle;\n",
       "    }\n",
       "\n",
       "    .dataframe tbody tr th {\n",
       "        vertical-align: top;\n",
       "    }\n",
       "\n",
       "    .dataframe thead th {\n",
       "        text-align: right;\n",
       "    }\n",
       "</style>\n",
       "<table border=\"1\" class=\"dataframe\">\n",
       "  <thead>\n",
       "    <tr style=\"text-align: right;\">\n",
       "      <th></th>\n",
       "      <th>Метод</th>\n",
       "      <th>CuO</th>\n",
       "      <th>Партия</th>\n",
       "      <th>CuSO4</th>\n",
       "      <th>Группа</th>\n",
       "      <th>N</th>\n",
       "      <th>Место</th>\n",
       "      <th>X</th>\n",
       "      <th>Т(С)</th>\n",
       "      <th>Продукт</th>\n",
       "    </tr>\n",
       "  </thead>\n",
       "  <tbody>\n",
       "    <tr>\n",
       "      <th>count</th>\n",
       "      <td>12.000000</td>\n",
       "      <td>12.000000</td>\n",
       "      <td>12.000000</td>\n",
       "      <td>12.000000</td>\n",
       "      <td>12.000000</td>\n",
       "      <td>12.000000</td>\n",
       "      <td>12.000000</td>\n",
       "      <td>12.000000</td>\n",
       "      <td>12.000000</td>\n",
       "      <td>12.000000</td>\n",
       "    </tr>\n",
       "    <tr>\n",
       "      <th>mean</th>\n",
       "      <td>0.750000</td>\n",
       "      <td>18.896667</td>\n",
       "      <td>0.750000</td>\n",
       "      <td>48.983333</td>\n",
       "      <td>1.000000</td>\n",
       "      <td>7.105833</td>\n",
       "      <td>1.250000</td>\n",
       "      <td>21.975000</td>\n",
       "      <td>50.000000</td>\n",
       "      <td>2.758333</td>\n",
       "    </tr>\n",
       "    <tr>\n",
       "      <th>std</th>\n",
       "      <td>0.866025</td>\n",
       "      <td>19.737649</td>\n",
       "      <td>0.866025</td>\n",
       "      <td>51.162448</td>\n",
       "      <td>0.852803</td>\n",
       "      <td>4.286317</td>\n",
       "      <td>0.753778</td>\n",
       "      <td>10.269294</td>\n",
       "      <td>31.333978</td>\n",
       "      <td>0.817378</td>\n",
       "    </tr>\n",
       "    <tr>\n",
       "      <th>min</th>\n",
       "      <td>0.000000</td>\n",
       "      <td>0.000000</td>\n",
       "      <td>0.000000</td>\n",
       "      <td>0.000000</td>\n",
       "      <td>0.000000</td>\n",
       "      <td>0.000000</td>\n",
       "      <td>0.000000</td>\n",
       "      <td>0.000000</td>\n",
       "      <td>20.000000</td>\n",
       "      <td>1.600000</td>\n",
       "    </tr>\n",
       "    <tr>\n",
       "      <th>25%</th>\n",
       "      <td>0.000000</td>\n",
       "      <td>0.000000</td>\n",
       "      <td>0.000000</td>\n",
       "      <td>0.000000</td>\n",
       "      <td>0.000000</td>\n",
       "      <td>6.967500</td>\n",
       "      <td>1.000000</td>\n",
       "      <td>25.975000</td>\n",
       "      <td>20.000000</td>\n",
       "      <td>2.175000</td>\n",
       "    </tr>\n",
       "    <tr>\n",
       "      <th>50%</th>\n",
       "      <td>0.500000</td>\n",
       "      <td>18.775000</td>\n",
       "      <td>0.500000</td>\n",
       "      <td>48.650000</td>\n",
       "      <td>1.000000</td>\n",
       "      <td>9.405000</td>\n",
       "      <td>1.000000</td>\n",
       "      <td>26.200000</td>\n",
       "      <td>50.000000</td>\n",
       "      <td>2.700000</td>\n",
       "    </tr>\n",
       "    <tr>\n",
       "      <th>75%</th>\n",
       "      <td>1.250000</td>\n",
       "      <td>37.670000</td>\n",
       "      <td>1.250000</td>\n",
       "      <td>97.875000</td>\n",
       "      <td>2.000000</td>\n",
       "      <td>9.522500</td>\n",
       "      <td>2.000000</td>\n",
       "      <td>26.600000</td>\n",
       "      <td>80.000000</td>\n",
       "      <td>3.325000</td>\n",
       "    </tr>\n",
       "    <tr>\n",
       "      <th>max</th>\n",
       "      <td>2.000000</td>\n",
       "      <td>38.200000</td>\n",
       "      <td>2.000000</td>\n",
       "      <td>98.700000</td>\n",
       "      <td>2.000000</td>\n",
       "      <td>9.680000</td>\n",
       "      <td>2.000000</td>\n",
       "      <td>26.900000</td>\n",
       "      <td>80.000000</td>\n",
       "      <td>4.400000</td>\n",
       "    </tr>\n",
       "  </tbody>\n",
       "</table>\n",
       "</div>"
      ],
      "text/plain": [
       "           Метод        CuO     Партия      CuSO4     Группа          N  \\\n",
       "count  12.000000  12.000000  12.000000  12.000000  12.000000  12.000000   \n",
       "mean    0.750000  18.896667   0.750000  48.983333   1.000000   7.105833   \n",
       "std     0.866025  19.737649   0.866025  51.162448   0.852803   4.286317   \n",
       "min     0.000000   0.000000   0.000000   0.000000   0.000000   0.000000   \n",
       "25%     0.000000   0.000000   0.000000   0.000000   0.000000   6.967500   \n",
       "50%     0.500000  18.775000   0.500000  48.650000   1.000000   9.405000   \n",
       "75%     1.250000  37.670000   1.250000  97.875000   2.000000   9.522500   \n",
       "max     2.000000  38.200000   2.000000  98.700000   2.000000   9.680000   \n",
       "\n",
       "           Место          X       Т(С)    Продукт  \n",
       "count  12.000000  12.000000  12.000000  12.000000  \n",
       "mean    1.250000  21.975000  50.000000   2.758333  \n",
       "std     0.753778  10.269294  31.333978   0.817378  \n",
       "min     0.000000   0.000000  20.000000   1.600000  \n",
       "25%     1.000000  25.975000  20.000000   2.175000  \n",
       "50%     1.000000  26.200000  50.000000   2.700000  \n",
       "75%     2.000000  26.600000  80.000000   3.325000  \n",
       "max     2.000000  26.900000  80.000000   4.400000  "
      ]
     },
     "execution_count": 5,
     "metadata": {},
     "output_type": "execute_result"
    }
   ],
   "source": [
    "df.describe()"
   ]
  },
  {
   "cell_type": "markdown",
   "id": "fa0e18af",
   "metadata": {},
   "source": [
    "Теперь же давайте выполним *двухвыборочный $F$-тест* для проверки равенства дисперсии для столбца **N**."
   ]
  },
  {
   "cell_type": "code",
   "execution_count": 6,
   "id": "17d5fc28",
   "metadata": {},
   "outputs": [],
   "source": [
    "import scipy.stats\n",
    "import numpy as np"
   ]
  },
  {
   "cell_type": "markdown",
   "id": "3a7ebff5",
   "metadata": {},
   "source": [
    "В качестве первого набора данных давайте выберем первую группу, в качестве второго – вторую."
   ]
  },
  {
   "cell_type": "code",
   "execution_count": 7,
   "id": "fd25050b",
   "metadata": {},
   "outputs": [
    {
     "name": "stdout",
     "output_type": "stream",
     "text": [
      "0    9.29\n",
      "1    9.38\n",
      "2    9.35\n",
      "3    9.43\n",
      "Name: N, dtype: float64\n",
      "------\n",
      "4    9.53\n",
      "5    9.48\n",
      "6    9.61\n",
      "7    9.68\n",
      "Name: N, dtype: float64\n"
     ]
    }
   ],
   "source": [
    "firstGroupBadWay = df['N'][0:4]\n",
    "secondGroupBadWay = df['N'][4:8]\n",
    "print(firstGroupBadWay)\n",
    "print(\"------\")\n",
    "print(secondGroupBadWay)"
   ]
  },
  {
   "cell_type": "markdown",
   "id": "bebc8909",
   "metadata": {},
   "source": [
    "Как вы видите, нам пришлось глазками смотреть на индексы строк, соответсвующие первой и второй группам, что не очень удобно. Кроме того, как быть, если таблица сильно больше а одинаковые группы разбросаны по разным строкам? Конечно, есть более удобный способ выбрать нужные нам значения столбца **N** в зависимости от значения в столбце **Группа**."
   ]
  },
  {
   "cell_type": "code",
   "execution_count": 8,
   "id": "8459dfe3",
   "metadata": {},
   "outputs": [],
   "source": [
    "firstGroup = df.loc[df['Группа'] == 1.0, 'N']\n",
    "secondGroup = df.loc[df['Группа'] == 2.0, 'N']"
   ]
  },
  {
   "cell_type": "code",
   "execution_count": 9,
   "id": "ce9220ea",
   "metadata": {},
   "outputs": [
    {
     "name": "stdout",
     "output_type": "stream",
     "text": [
      "0    9.29\n",
      "1    9.38\n",
      "2    9.35\n",
      "3    9.43\n",
      "Name: N, dtype: float64\n",
      "-------\n",
      "4    9.53\n",
      "5    9.48\n",
      "6    9.61\n",
      "7    9.68\n",
      "Name: N, dtype: float64\n"
     ]
    }
   ],
   "source": [
    "print(firstGroup)\n",
    "print(\"-------\")\n",
    "print(secondGroup)"
   ]
  },
  {
   "cell_type": "markdown",
   "id": "76182d1e",
   "metadata": {},
   "source": [
    "Как видим, всё в полном порядке."
   ]
  },
  {
   "cell_type": "markdown",
   "id": "d7a816c2",
   "metadata": {},
   "source": [
    "Давайте найдём дисперсии выборок. Мы умеем делать это несколькими способами, и вы можете выбрать любой, который нравится вам больше."
   ]
  },
  {
   "cell_type": "code",
   "execution_count": 10,
   "id": "3bd7f168",
   "metadata": {},
   "outputs": [
    {
     "name": "stdout",
     "output_type": "stream",
     "text": [
      "firstGroupVar:  0.003425000000000041\n",
      "secondGroupVar:  0.007766666666666626\n"
     ]
    }
   ],
   "source": [
    "firstVar = np.var(firstGroup, ddof = 1)\n",
    "secondVar = np.var(secondGroup, ddof = 1)\n",
    "print(\"firstGroupVar: \",firstVar)\n",
    "print(\"secondGroupVar: \", secondVar)"
   ]
  },
  {
   "cell_type": "code",
   "execution_count": 11,
   "id": "4ed00072",
   "metadata": {},
   "outputs": [
    {
     "name": "stdout",
     "output_type": "stream",
     "text": [
      "firstGroupVar: 0.003425000000000041\n"
     ]
    }
   ],
   "source": [
    "print(\"firstGroupVar:\", firstVar)"
   ]
  },
  {
   "cell_type": "markdown",
   "id": "6c29d5ac",
   "metadata": {},
   "source": [
    "Теперь нам нужно найти отношение точечных оценок дисперсий. Например, мы можем сделать это для выборочных дисперсий. "
   ]
  },
  {
   "cell_type": "markdown",
   "id": "ab37a1bb",
   "metadata": {},
   "source": [
    "Давайте напишем функцию, которая будет выполнять $F$-тест для проверки равенства дисперсий двух выборок – убедитесь, что вы понимаете, почему это именно такая функци."
   ]
  },
  {
   "cell_type": "code",
   "execution_count": 12,
   "id": "503d4cf7",
   "metadata": {},
   "outputs": [],
   "source": [
    "def fTest(firstSample, secondSample):\n",
    "    firstSample = np.array(firstSample)\n",
    "    secondSample = np.array(secondSample)\n",
    "    f = np.var(firstSample, ddof=1) / np.var(secondGroup, ddof=1)\n",
    "    dfn = firstGroup.size - 1\n",
    "    dfd = secondGroup.size - 1\n",
    "    p = 1 - scipy.stats.f.cdf(f, dfn, dfd)\n",
    "    return (f, p)"
   ]
  },
  {
   "cell_type": "markdown",
   "id": "e6dccba6",
   "metadata": {},
   "source": [
    "> В особенности интересует эта строка `p = 1 - scipy.stats.f.cdf(f, dfn, dfd)`. Пожалуйста, в выполненном задании напишите текстом разбор этой строки в духе: \"Так как P-значение – это то-то, то мы должны сделать то-то, чтобы получилось то-то.\""
   ]
  },
  {
   "cell_type": "markdown",
   "id": "29c53fb8",
   "metadata": {},
   "source": [
    "Выполним наконец $F$-тест для проверки дисперсий наших выборок."
   ]
  },
  {
   "cell_type": "code",
   "execution_count": 13,
   "id": "90488fe5",
   "metadata": {},
   "outputs": [
    {
     "name": "stdout",
     "output_type": "stream",
     "text": [
      "F: 0.4409871244635269\n",
      "P-value: 0.7406260852648179\n"
     ]
    }
   ],
   "source": [
    "f, pValue = fTest(firstGroup, secondGroup)\n",
    "print(\"F:\", f)\n",
    "print(\"P-value:\", pValue)"
   ]
  },
  {
   "cell_type": "markdown",
   "id": "95370528",
   "metadata": {},
   "source": [
    "## Часть 3. Сравнение средних двух выборок."
   ]
  },
  {
   "cell_type": "markdown",
   "id": "c04a0209",
   "metadata": {},
   "source": [
    "Для сравнения средних двух выборок можно использовать критерий Стьюдента (или, как его ещё называют, $t$-тест)."
   ]
  },
  {
   "cell_type": "markdown",
   "id": "b88b7244",
   "metadata": {},
   "source": [
    "Стоит отметить, что классический критерий Стьюдента использует предположение о том, что дисперсии равны."
   ]
  },
  {
   "cell_type": "markdown",
   "id": "b11e5215",
   "metadata": {},
   "source": [
    "Рассмотрим следующие гипотезы:\n",
    "<br>$H_0:$ Выборки имеют равные средние,\n",
    "<br>$H_1:$ Выборки имеют различные средние."
   ]
  },
  {
   "cell_type": "markdown",
   "id": "6240c9e9",
   "metadata": {},
   "source": [
    "Пусть есть две независимые нормальные выборки объёма $n_1$ и $n_2$. В случае совпадения дисперсий статистика критерия имеет вид"
   ]
  },
  {
   "cell_type": "markdown",
   "id": "e28f4ff2",
   "metadata": {},
   "source": [
    "$$\n",
    "t = \\frac{\\overline X_1 - \\overline X_2}{s_X \\sqrt{\\frac{1}{n_1}+\\frac{1}{n_2}}} ~,~~s_X=\\sqrt {\\frac{(n_1 - 1)s_1^2 + (n_2 - 1)s_2^2}{n_1 + n_2 - 2}},\n",
    "$$\n",
    "где $s$ – несмещённая оценка дисперсии:\n",
    "$$\n",
    "s^2=\\frac {\\sum^n_{t=1}(X_t-\\overline X)^2}{n-1}\n",
    "$$"
   ]
  },
  {
   "cell_type": "markdown",
   "id": "0f395ea9",
   "metadata": {},
   "source": [
    "Отметим также, что эта статистика имеет распределение Стьюдента $t(n_1 + n_2 - 2)$."
   ]
  },
  {
   "cell_type": "markdown",
   "id": "abee4b10",
   "metadata": {},
   "source": [
    "Так как мы не отвергли гипотезу о совпадении дисперсий, давайте выполним $t$-тест для тех же групп."
   ]
  },
  {
   "cell_type": "code",
   "execution_count": 14,
   "id": "989db742",
   "metadata": {},
   "outputs": [
    {
     "data": {
      "text/plain": [
       "Ttest_indResult(statistic=-4.017367360141328, pvalue=0.006979687421480706)"
      ]
     },
     "execution_count": 14,
     "metadata": {},
     "output_type": "execute_result"
    }
   ],
   "source": [
    "scipy.stats.ttest_ind(firstGroup, secondGroup)"
   ]
  },
  {
   "cell_type": "markdown",
   "id": "a55d4f82",
   "metadata": {},
   "source": [
    "Что мы видим? Значение статистики достаточно сильно отклоняется от нуля (отрицательно же оно потому, что в качестве первой выборки мы взяли выборки с меньшим значением среднего). Очень маленькое (к слову, двухстороннее) $P$-значение подтверждает это. Какой вывод из этого следует? Что мы можем отклонить гипотезу о равенстве средних. Вероятность ошибиться при этом очень и очень мала. "
   ]
  },
  {
   "cell_type": "markdown",
   "id": "6bfd3f03",
   "metadata": {},
   "source": [
    "## Часть 4. Двухвыборочный t-тест."
   ]
  },
  {
   "cell_type": "markdown",
   "id": "3dd26a56",
   "metadata": {},
   "source": [
    "Здесь мы не будем глубоко вдаваться в теоретическое обоснование. Вместо этого проведём необходимые вычисления."
   ]
  },
  {
   "cell_type": "code",
   "execution_count": 15,
   "id": "2092a212",
   "metadata": {},
   "outputs": [],
   "source": [
    "dfFilter = pd.read_excel(\"../Data/Filter.xls\")"
   ]
  },
  {
   "cell_type": "code",
   "execution_count": 16,
   "id": "7284e74b",
   "metadata": {},
   "outputs": [
    {
     "data": {
      "text/html": [
       "<div>\n",
       "<style scoped>\n",
       "    .dataframe tbody tr th:only-of-type {\n",
       "        vertical-align: middle;\n",
       "    }\n",
       "\n",
       "    .dataframe tbody tr th {\n",
       "        vertical-align: top;\n",
       "    }\n",
       "\n",
       "    .dataframe thead th {\n",
       "        text-align: right;\n",
       "    }\n",
       "</style>\n",
       "<table border=\"1\" class=\"dataframe\">\n",
       "  <thead>\n",
       "    <tr style=\"text-align: right;\">\n",
       "      <th></th>\n",
       "      <th>До</th>\n",
       "      <th>После</th>\n",
       "    </tr>\n",
       "  </thead>\n",
       "  <tbody>\n",
       "    <tr>\n",
       "      <th>0</th>\n",
       "      <td>100.1</td>\n",
       "      <td>96.6</td>\n",
       "    </tr>\n",
       "    <tr>\n",
       "      <th>1</th>\n",
       "      <td>115.1</td>\n",
       "      <td>115.6</td>\n",
       "    </tr>\n",
       "    <tr>\n",
       "      <th>2</th>\n",
       "      <td>130.0</td>\n",
       "      <td>125.5</td>\n",
       "    </tr>\n",
       "    <tr>\n",
       "      <th>3</th>\n",
       "      <td>93.6</td>\n",
       "      <td>94.0</td>\n",
       "    </tr>\n",
       "    <tr>\n",
       "      <th>4</th>\n",
       "      <td>108.3</td>\n",
       "      <td>103.3</td>\n",
       "    </tr>\n",
       "    <tr>\n",
       "      <th>5</th>\n",
       "      <td>137.2</td>\n",
       "      <td>134.4</td>\n",
       "    </tr>\n",
       "    <tr>\n",
       "      <th>6</th>\n",
       "      <td>104.4</td>\n",
       "      <td>100.2</td>\n",
       "    </tr>\n",
       "    <tr>\n",
       "      <th>7</th>\n",
       "      <td>97.3</td>\n",
       "      <td>97.1</td>\n",
       "    </tr>\n",
       "  </tbody>\n",
       "</table>\n",
       "</div>"
      ],
      "text/plain": [
       "      До  После\n",
       "0  100.1   96.6\n",
       "1  115.1  115.6\n",
       "2  130.0  125.5\n",
       "3   93.6   94.0\n",
       "4  108.3  103.3\n",
       "5  137.2  134.4\n",
       "6  104.4  100.2\n",
       "7   97.3   97.1"
      ]
     },
     "metadata": {},
     "output_type": "display_data"
    }
   ],
   "source": [
    "display(dfFilter)"
   ]
  },
  {
   "cell_type": "code",
   "execution_count": 17,
   "id": "58c6e85d",
   "metadata": {},
   "outputs": [
    {
     "name": "stdout",
     "output_type": "stream",
     "text": [
      "<class 'pandas.core.frame.DataFrame'>\n",
      "RangeIndex: 8 entries, 0 to 7\n",
      "Data columns (total 2 columns):\n",
      " #   Column  Non-Null Count  Dtype  \n",
      "---  ------  --------------  -----  \n",
      " 0   До      8 non-null      float64\n",
      " 1   После   8 non-null      float64\n",
      "dtypes: float64(2)\n",
      "memory usage: 256.0 bytes\n"
     ]
    }
   ],
   "source": [
    "dfFilter.info()"
   ]
  },
  {
   "cell_type": "code",
   "execution_count": 18,
   "id": "61926c0b",
   "metadata": {},
   "outputs": [
    {
     "data": {
      "text/plain": [
       "Ttest_relResult(statistic=2.9732548005798334, pvalue=0.020711935094041782)"
      ]
     },
     "execution_count": 18,
     "metadata": {},
     "output_type": "execute_result"
    }
   ],
   "source": [
    "scipy.stats.ttest_rel(dfFilter['До'], dfFilter['После'])"
   ]
  },
  {
   "cell_type": "markdown",
   "id": "6684924e",
   "metadata": {},
   "source": [
    "Видим, что $P$-значение достаточно мало. Следовательно, мы можем отвергнуть гипотезу о том, что результаты **До** и **После** результат фильтрации существенен."
   ]
  },
  {
   "cell_type": "code",
   "execution_count": 19,
   "id": "6fc1a332",
   "metadata": {},
   "outputs": [
    {
     "name": "stdout",
     "output_type": "stream",
     "text": [
      "110.74999999999999\n",
      "108.3375\n"
     ]
    }
   ],
   "source": [
    "print(dfFilter['До'].mean())\n",
    "print(dfFilter['После'].mean())"
   ]
  },
  {
   "cell_type": "markdown",
   "id": "30b39fd2",
   "metadata": {},
   "source": [
    "## Часть 5. Проверка на равенство среднего определённому числу."
   ]
  },
  {
   "cell_type": "markdown",
   "id": "1e05fea9",
   "metadata": {},
   "source": [
    "Вернёмся к файлу, где были содержания. "
   ]
  },
  {
   "cell_type": "code",
   "execution_count": 20,
   "id": "1abf023d",
   "metadata": {},
   "outputs": [],
   "source": [
    "dfContents = pd.read_excel(\"../Data/Contents.xls\")"
   ]
  },
  {
   "cell_type": "markdown",
   "id": "1d5d04a9",
   "metadata": {},
   "source": [
    "Я почистил лишние строки в нём."
   ]
  },
  {
   "cell_type": "code",
   "execution_count": 21,
   "id": "dad06e3b",
   "metadata": {},
   "outputs": [
    {
     "data": {
      "text/html": [
       "<div>\n",
       "<style scoped>\n",
       "    .dataframe tbody tr th:only-of-type {\n",
       "        vertical-align: middle;\n",
       "    }\n",
       "\n",
       "    .dataframe tbody tr th {\n",
       "        vertical-align: top;\n",
       "    }\n",
       "\n",
       "    .dataframe thead th {\n",
       "        text-align: right;\n",
       "    }\n",
       "</style>\n",
       "<table border=\"1\" class=\"dataframe\">\n",
       "  <thead>\n",
       "    <tr style=\"text-align: right;\">\n",
       "      <th></th>\n",
       "      <th>Лаб</th>\n",
       "      <th>Al</th>\n",
       "      <th>Sn</th>\n",
       "      <th>FeO</th>\n",
       "    </tr>\n",
       "  </thead>\n",
       "  <tbody>\n",
       "    <tr>\n",
       "      <th>0</th>\n",
       "      <td>1</td>\n",
       "      <td>0.016</td>\n",
       "      <td>0.42</td>\n",
       "      <td>6.21</td>\n",
       "    </tr>\n",
       "    <tr>\n",
       "      <th>1</th>\n",
       "      <td>1</td>\n",
       "      <td>0.015</td>\n",
       "      <td>0.20</td>\n",
       "      <td>6.22</td>\n",
       "    </tr>\n",
       "    <tr>\n",
       "      <th>2</th>\n",
       "      <td>1</td>\n",
       "      <td>0.017</td>\n",
       "      <td>0.26</td>\n",
       "      <td>6.33</td>\n",
       "    </tr>\n",
       "    <tr>\n",
       "      <th>3</th>\n",
       "      <td>1</td>\n",
       "      <td>0.016</td>\n",
       "      <td>0.27</td>\n",
       "      <td>6.02</td>\n",
       "    </tr>\n",
       "    <tr>\n",
       "      <th>4</th>\n",
       "      <td>1</td>\n",
       "      <td>0.019</td>\n",
       "      <td>0.32</td>\n",
       "      <td>6.32</td>\n",
       "    </tr>\n",
       "    <tr>\n",
       "      <th>5</th>\n",
       "      <td>2</td>\n",
       "      <td>0.017</td>\n",
       "      <td>0.19</td>\n",
       "      <td>6.09</td>\n",
       "    </tr>\n",
       "    <tr>\n",
       "      <th>6</th>\n",
       "      <td>2</td>\n",
       "      <td>0.016</td>\n",
       "      <td>0.12</td>\n",
       "      <td>6.23</td>\n",
       "    </tr>\n",
       "    <tr>\n",
       "      <th>7</th>\n",
       "      <td>2</td>\n",
       "      <td>0.016</td>\n",
       "      <td>0.21</td>\n",
       "      <td>6.15</td>\n",
       "    </tr>\n",
       "    <tr>\n",
       "      <th>8</th>\n",
       "      <td>2</td>\n",
       "      <td>0.016</td>\n",
       "      <td>0.43</td>\n",
       "      <td>6.26</td>\n",
       "    </tr>\n",
       "    <tr>\n",
       "      <th>9</th>\n",
       "      <td>2</td>\n",
       "      <td>0.018</td>\n",
       "      <td>0.27</td>\n",
       "      <td>6.14</td>\n",
       "    </tr>\n",
       "    <tr>\n",
       "      <th>10</th>\n",
       "      <td>3</td>\n",
       "      <td>0.015</td>\n",
       "      <td>0.38</td>\n",
       "      <td>6.18</td>\n",
       "    </tr>\n",
       "    <tr>\n",
       "      <th>11</th>\n",
       "      <td>3</td>\n",
       "      <td>0.014</td>\n",
       "      <td>0.17</td>\n",
       "      <td>6.23</td>\n",
       "    </tr>\n",
       "    <tr>\n",
       "      <th>12</th>\n",
       "      <td>3</td>\n",
       "      <td>0.014</td>\n",
       "      <td>0.28</td>\n",
       "      <td>5.71</td>\n",
       "    </tr>\n",
       "    <tr>\n",
       "      <th>13</th>\n",
       "      <td>3</td>\n",
       "      <td>0.014</td>\n",
       "      <td>0.19</td>\n",
       "      <td>6.33</td>\n",
       "    </tr>\n",
       "    <tr>\n",
       "      <th>14</th>\n",
       "      <td>3</td>\n",
       "      <td>0.015</td>\n",
       "      <td>0.35</td>\n",
       "      <td>6.13</td>\n",
       "    </tr>\n",
       "    <tr>\n",
       "      <th>15</th>\n",
       "      <td>4</td>\n",
       "      <td>0.011</td>\n",
       "      <td>0.17</td>\n",
       "      <td>5.74</td>\n",
       "    </tr>\n",
       "    <tr>\n",
       "      <th>16</th>\n",
       "      <td>4</td>\n",
       "      <td>0.007</td>\n",
       "      <td>0.23</td>\n",
       "      <td>6.06</td>\n",
       "    </tr>\n",
       "    <tr>\n",
       "      <th>17</th>\n",
       "      <td>4</td>\n",
       "      <td>0.008</td>\n",
       "      <td>0.27</td>\n",
       "      <td>6.28</td>\n",
       "    </tr>\n",
       "    <tr>\n",
       "      <th>18</th>\n",
       "      <td>4</td>\n",
       "      <td>0.010</td>\n",
       "      <td>0.53</td>\n",
       "      <td>6.32</td>\n",
       "    </tr>\n",
       "    <tr>\n",
       "      <th>19</th>\n",
       "      <td>4</td>\n",
       "      <td>0.009</td>\n",
       "      <td>0.39</td>\n",
       "      <td>6.03</td>\n",
       "    </tr>\n",
       "    <tr>\n",
       "      <th>20</th>\n",
       "      <td>5</td>\n",
       "      <td>0.011</td>\n",
       "      <td>0.35</td>\n",
       "      <td>5.98</td>\n",
       "    </tr>\n",
       "    <tr>\n",
       "      <th>21</th>\n",
       "      <td>5</td>\n",
       "      <td>0.011</td>\n",
       "      <td>0.24</td>\n",
       "      <td>6.50</td>\n",
       "    </tr>\n",
       "    <tr>\n",
       "      <th>22</th>\n",
       "      <td>5</td>\n",
       "      <td>0.013</td>\n",
       "      <td>0.22</td>\n",
       "      <td>5.94</td>\n",
       "    </tr>\n",
       "    <tr>\n",
       "      <th>23</th>\n",
       "      <td>5</td>\n",
       "      <td>0.012</td>\n",
       "      <td>0.17</td>\n",
       "      <td>6.05</td>\n",
       "    </tr>\n",
       "    <tr>\n",
       "      <th>24</th>\n",
       "      <td>5</td>\n",
       "      <td>0.012</td>\n",
       "      <td>0.18</td>\n",
       "      <td>5.88</td>\n",
       "    </tr>\n",
       "    <tr>\n",
       "      <th>25</th>\n",
       "      <td>6</td>\n",
       "      <td>0.012</td>\n",
       "      <td>0.33</td>\n",
       "      <td>6.14</td>\n",
       "    </tr>\n",
       "    <tr>\n",
       "      <th>26</th>\n",
       "      <td>6</td>\n",
       "      <td>0.014</td>\n",
       "      <td>0.53</td>\n",
       "      <td>5.92</td>\n",
       "    </tr>\n",
       "    <tr>\n",
       "      <th>27</th>\n",
       "      <td>6</td>\n",
       "      <td>0.013</td>\n",
       "      <td>0.18</td>\n",
       "      <td>6.26</td>\n",
       "    </tr>\n",
       "    <tr>\n",
       "      <th>28</th>\n",
       "      <td>6</td>\n",
       "      <td>0.013</td>\n",
       "      <td>0.44</td>\n",
       "      <td>6.40</td>\n",
       "    </tr>\n",
       "    <tr>\n",
       "      <th>29</th>\n",
       "      <td>6</td>\n",
       "      <td>0.015</td>\n",
       "      <td>0.26</td>\n",
       "      <td>6.11</td>\n",
       "    </tr>\n",
       "    <tr>\n",
       "      <th>30</th>\n",
       "      <td>7</td>\n",
       "      <td>0.011</td>\n",
       "      <td>0.23</td>\n",
       "      <td>5.96</td>\n",
       "    </tr>\n",
       "    <tr>\n",
       "      <th>31</th>\n",
       "      <td>7</td>\n",
       "      <td>0.009</td>\n",
       "      <td>0.23</td>\n",
       "      <td>6.43</td>\n",
       "    </tr>\n",
       "    <tr>\n",
       "      <th>32</th>\n",
       "      <td>7</td>\n",
       "      <td>0.012</td>\n",
       "      <td>0.23</td>\n",
       "      <td>6.15</td>\n",
       "    </tr>\n",
       "    <tr>\n",
       "      <th>33</th>\n",
       "      <td>7</td>\n",
       "      <td>0.010</td>\n",
       "      <td>0.21</td>\n",
       "      <td>6.10</td>\n",
       "    </tr>\n",
       "    <tr>\n",
       "      <th>34</th>\n",
       "      <td>7</td>\n",
       "      <td>0.012</td>\n",
       "      <td>0.20</td>\n",
       "      <td>6.31</td>\n",
       "    </tr>\n",
       "    <tr>\n",
       "      <th>35</th>\n",
       "      <td>8</td>\n",
       "      <td>0.011</td>\n",
       "      <td>0.24</td>\n",
       "      <td>6.21</td>\n",
       "    </tr>\n",
       "    <tr>\n",
       "      <th>36</th>\n",
       "      <td>8</td>\n",
       "      <td>0.011</td>\n",
       "      <td>0.32</td>\n",
       "      <td>6.05</td>\n",
       "    </tr>\n",
       "    <tr>\n",
       "      <th>37</th>\n",
       "      <td>8</td>\n",
       "      <td>0.012</td>\n",
       "      <td>0.18</td>\n",
       "      <td>6.33</td>\n",
       "    </tr>\n",
       "    <tr>\n",
       "      <th>38</th>\n",
       "      <td>8</td>\n",
       "      <td>0.014</td>\n",
       "      <td>0.27</td>\n",
       "      <td>5.84</td>\n",
       "    </tr>\n",
       "    <tr>\n",
       "      <th>39</th>\n",
       "      <td>8</td>\n",
       "      <td>0.013</td>\n",
       "      <td>0.21</td>\n",
       "      <td>5.80</td>\n",
       "    </tr>\n",
       "    <tr>\n",
       "      <th>40</th>\n",
       "      <td>9</td>\n",
       "      <td>0.012</td>\n",
       "      <td>0.21</td>\n",
       "      <td>5.99</td>\n",
       "    </tr>\n",
       "    <tr>\n",
       "      <th>41</th>\n",
       "      <td>9</td>\n",
       "      <td>0.014</td>\n",
       "      <td>0.16</td>\n",
       "      <td>6.29</td>\n",
       "    </tr>\n",
       "    <tr>\n",
       "      <th>42</th>\n",
       "      <td>9</td>\n",
       "      <td>0.015</td>\n",
       "      <td>0.18</td>\n",
       "      <td>6.01</td>\n",
       "    </tr>\n",
       "    <tr>\n",
       "      <th>43</th>\n",
       "      <td>9</td>\n",
       "      <td>0.013</td>\n",
       "      <td>0.22</td>\n",
       "      <td>5.84</td>\n",
       "    </tr>\n",
       "    <tr>\n",
       "      <th>44</th>\n",
       "      <td>9</td>\n",
       "      <td>0.014</td>\n",
       "      <td>0.29</td>\n",
       "      <td>6.38</td>\n",
       "    </tr>\n",
       "    <tr>\n",
       "      <th>45</th>\n",
       "      <td>10</td>\n",
       "      <td>0.015</td>\n",
       "      <td>0.18</td>\n",
       "      <td>6.28</td>\n",
       "    </tr>\n",
       "    <tr>\n",
       "      <th>46</th>\n",
       "      <td>10</td>\n",
       "      <td>0.018</td>\n",
       "      <td>0.51</td>\n",
       "      <td>6.07</td>\n",
       "    </tr>\n",
       "    <tr>\n",
       "      <th>47</th>\n",
       "      <td>10</td>\n",
       "      <td>0.016</td>\n",
       "      <td>0.25</td>\n",
       "      <td>6.03</td>\n",
       "    </tr>\n",
       "    <tr>\n",
       "      <th>48</th>\n",
       "      <td>10</td>\n",
       "      <td>0.017</td>\n",
       "      <td>0.14</td>\n",
       "      <td>6.23</td>\n",
       "    </tr>\n",
       "    <tr>\n",
       "      <th>49</th>\n",
       "      <td>10</td>\n",
       "      <td>0.016</td>\n",
       "      <td>0.27</td>\n",
       "      <td>6.13</td>\n",
       "    </tr>\n",
       "    <tr>\n",
       "      <th>50</th>\n",
       "      <td>11</td>\n",
       "      <td>0.015</td>\n",
       "      <td>0.15</td>\n",
       "      <td>6.17</td>\n",
       "    </tr>\n",
       "    <tr>\n",
       "      <th>51</th>\n",
       "      <td>11</td>\n",
       "      <td>0.014</td>\n",
       "      <td>0.20</td>\n",
       "      <td>6.26</td>\n",
       "    </tr>\n",
       "    <tr>\n",
       "      <th>52</th>\n",
       "      <td>11</td>\n",
       "      <td>0.013</td>\n",
       "      <td>0.40</td>\n",
       "      <td>5.97</td>\n",
       "    </tr>\n",
       "    <tr>\n",
       "      <th>53</th>\n",
       "      <td>11</td>\n",
       "      <td>0.014</td>\n",
       "      <td>0.21</td>\n",
       "      <td>6.01</td>\n",
       "    </tr>\n",
       "    <tr>\n",
       "      <th>54</th>\n",
       "      <td>11</td>\n",
       "      <td>0.014</td>\n",
       "      <td>0.30</td>\n",
       "      <td>5.86</td>\n",
       "    </tr>\n",
       "    <tr>\n",
       "      <th>55</th>\n",
       "      <td>12</td>\n",
       "      <td>0.012</td>\n",
       "      <td>0.18</td>\n",
       "      <td>5.84</td>\n",
       "    </tr>\n",
       "    <tr>\n",
       "      <th>56</th>\n",
       "      <td>12</td>\n",
       "      <td>0.014</td>\n",
       "      <td>0.22</td>\n",
       "      <td>6.32</td>\n",
       "    </tr>\n",
       "    <tr>\n",
       "      <th>57</th>\n",
       "      <td>12</td>\n",
       "      <td>0.012</td>\n",
       "      <td>0.15</td>\n",
       "      <td>6.16</td>\n",
       "    </tr>\n",
       "    <tr>\n",
       "      <th>58</th>\n",
       "      <td>12</td>\n",
       "      <td>0.013</td>\n",
       "      <td>0.20</td>\n",
       "      <td>6.02</td>\n",
       "    </tr>\n",
       "    <tr>\n",
       "      <th>59</th>\n",
       "      <td>12</td>\n",
       "      <td>0.012</td>\n",
       "      <td>0.27</td>\n",
       "      <td>5.82</td>\n",
       "    </tr>\n",
       "  </tbody>\n",
       "</table>\n",
       "</div>"
      ],
      "text/plain": [
       "    Лаб     Al    Sn   FeO\n",
       "0     1  0.016  0.42  6.21\n",
       "1     1  0.015  0.20  6.22\n",
       "2     1  0.017  0.26  6.33\n",
       "3     1  0.016  0.27  6.02\n",
       "4     1  0.019  0.32  6.32\n",
       "5     2  0.017  0.19  6.09\n",
       "6     2  0.016  0.12  6.23\n",
       "7     2  0.016  0.21  6.15\n",
       "8     2  0.016  0.43  6.26\n",
       "9     2  0.018  0.27  6.14\n",
       "10    3  0.015  0.38  6.18\n",
       "11    3  0.014  0.17  6.23\n",
       "12    3  0.014  0.28  5.71\n",
       "13    3  0.014  0.19  6.33\n",
       "14    3  0.015  0.35  6.13\n",
       "15    4  0.011  0.17  5.74\n",
       "16    4  0.007  0.23  6.06\n",
       "17    4  0.008  0.27  6.28\n",
       "18    4  0.010  0.53  6.32\n",
       "19    4  0.009  0.39  6.03\n",
       "20    5  0.011  0.35  5.98\n",
       "21    5  0.011  0.24  6.50\n",
       "22    5  0.013  0.22  5.94\n",
       "23    5  0.012  0.17  6.05\n",
       "24    5  0.012  0.18  5.88\n",
       "25    6  0.012  0.33  6.14\n",
       "26    6  0.014  0.53  5.92\n",
       "27    6  0.013  0.18  6.26\n",
       "28    6  0.013  0.44  6.40\n",
       "29    6  0.015  0.26  6.11\n",
       "30    7  0.011  0.23  5.96\n",
       "31    7  0.009  0.23  6.43\n",
       "32    7  0.012  0.23  6.15\n",
       "33    7  0.010  0.21  6.10\n",
       "34    7  0.012  0.20  6.31\n",
       "35    8  0.011  0.24  6.21\n",
       "36    8  0.011  0.32  6.05\n",
       "37    8  0.012  0.18  6.33\n",
       "38    8  0.014  0.27  5.84\n",
       "39    8  0.013  0.21  5.80\n",
       "40    9  0.012  0.21  5.99\n",
       "41    9  0.014  0.16  6.29\n",
       "42    9  0.015  0.18  6.01\n",
       "43    9  0.013  0.22  5.84\n",
       "44    9  0.014  0.29  6.38\n",
       "45   10  0.015  0.18  6.28\n",
       "46   10  0.018  0.51  6.07\n",
       "47   10  0.016  0.25  6.03\n",
       "48   10  0.017  0.14  6.23\n",
       "49   10  0.016  0.27  6.13\n",
       "50   11  0.015  0.15  6.17\n",
       "51   11  0.014  0.20  6.26\n",
       "52   11  0.013  0.40  5.97\n",
       "53   11  0.014  0.21  6.01\n",
       "54   11  0.014  0.30  5.86\n",
       "55   12  0.012  0.18  5.84\n",
       "56   12  0.014  0.22  6.32\n",
       "57   12  0.012  0.15  6.16\n",
       "58   12  0.013  0.20  6.02\n",
       "59   12  0.012  0.27  5.82"
      ]
     },
     "metadata": {},
     "output_type": "display_data"
    }
   ],
   "source": [
    "display(dfContents)"
   ]
  },
  {
   "cell_type": "code",
   "execution_count": 22,
   "id": "742985be",
   "metadata": {},
   "outputs": [
    {
     "name": "stdout",
     "output_type": "stream",
     "text": [
      "<class 'pandas.core.frame.DataFrame'>\n",
      "RangeIndex: 60 entries, 0 to 59\n",
      "Data columns (total 4 columns):\n",
      " #   Column  Non-Null Count  Dtype  \n",
      "---  ------  --------------  -----  \n",
      " 0   Лаб     60 non-null     int64  \n",
      " 1   Al      60 non-null     float64\n",
      " 2   Sn      60 non-null     float64\n",
      " 3   FeO     60 non-null     float64\n",
      "dtypes: float64(3), int64(1)\n",
      "memory usage: 2.0 KB\n"
     ]
    }
   ],
   "source": [
    "dfContents.info()"
   ]
  },
  {
   "cell_type": "code",
   "execution_count": 23,
   "id": "06310fc4",
   "metadata": {},
   "outputs": [
    {
     "data": {
      "text/plain": [
       "Ttest_1sampResult(statistic=-0.053254042834835584, pvalue=0.9577094055431739)"
      ]
     },
     "execution_count": 23,
     "metadata": {},
     "output_type": "execute_result"
    }
   ],
   "source": [
    "scipy.stats.ttest_1samp(dfContents['Sn'], 0.26)"
   ]
  },
  {
   "cell_type": "markdown",
   "id": "db0602cb",
   "metadata": {},
   "source": [
    "Видим, что отклонение очень маленькое, и $P$-значение очень большое. Значит, гипотеза о равенстве среднего заданному числу ($0.26$) принимается. "
   ]
  },
  {
   "cell_type": "code",
   "execution_count": 24,
   "id": "277222f0",
   "metadata": {},
   "outputs": [
    {
     "data": {
      "text/plain": [
       "Ttest_1sampResult(statistic=247.2628135524946, pvalue=1.1124582548513744e-90)"
      ]
     },
     "execution_count": 24,
     "metadata": {},
     "output_type": "execute_result"
    }
   ],
   "source": [
    "scipy.stats.ttest_1samp(dfContents['FeO'], 0.26)"
   ]
  },
  {
   "cell_type": "markdown",
   "id": "9969ca4c",
   "metadata": {},
   "source": [
    "Что тут? Отклонение очень большое, а $P$-значение почти что ноль."
   ]
  },
  {
   "cell_type": "code",
   "execution_count": 25,
   "id": "99d810b5",
   "metadata": {},
   "outputs": [
    {
     "data": {
      "text/plain": [
       "6.117"
      ]
     },
     "execution_count": 25,
     "metadata": {},
     "output_type": "execute_result"
    }
   ],
   "source": [
    "dfContents['FeO'].mean()"
   ]
  },
  {
   "cell_type": "markdown",
   "id": "5890f06c",
   "metadata": {},
   "source": [
    "Давайте посмотрим гипотезу на равенство среднего последней выборки числу $6$."
   ]
  },
  {
   "cell_type": "code",
   "execution_count": 26,
   "id": "dce4b8c1",
   "metadata": {},
   "outputs": [
    {
     "data": {
      "text/plain": [
       "Ttest_1sampResult(statistic=4.939345942571638, pvalue=6.791082679392058e-06)"
      ]
     },
     "execution_count": 26,
     "metadata": {},
     "output_type": "execute_result"
    }
   ],
   "source": [
    "scipy.stats.ttest_1samp(dfContents['FeO'], 6.0)"
   ]
  },
  {
   "cell_type": "markdown",
   "id": "327fb98d",
   "metadata": {},
   "source": [
    "Что видим? Маленько отклонение и большое $P$-значение. Следовательно, мы принимаем гипотезу о равенстве среднего заданному числу. "
   ]
  },
  {
   "cell_type": "markdown",
   "id": "8bdfc24a",
   "metadata": {},
   "source": [
    "Для забавы давайте посмотри, что будет, если проверить среднее на равенство точному значению среднего."
   ]
  },
  {
   "cell_type": "code",
   "execution_count": 27,
   "id": "e6ae948d",
   "metadata": {},
   "outputs": [
    {
     "data": {
      "text/plain": [
       "Ttest_1sampResult(statistic=3.7495901483978375e-14, pvalue=0.9999999999999702)"
      ]
     },
     "execution_count": 27,
     "metadata": {},
     "output_type": "execute_result"
    }
   ],
   "source": [
    "scipy.stats.ttest_1samp(dfContents['FeO'], 6.117)"
   ]
  },
  {
   "cell_type": "markdown",
   "id": "94106248",
   "metadata": {},
   "source": [
    "Как и ожидалось, отклонение почти что ноль при малом $P$-значении."
   ]
  },
  {
   "cell_type": "markdown",
   "id": "53525c5e",
   "metadata": {},
   "source": [
    "## Задача."
   ]
  },
  {
   "cell_type": "markdown",
   "id": "cb345a59",
   "metadata": {},
   "source": [
    "Выполнить своё индивидуальное задание."
   ]
  }
 ],
 "metadata": {
  "kernelspec": {
   "display_name": "Python 3 (ipykernel)",
   "language": "python",
   "name": "python3"
  },
  "language_info": {
   "codemirror_mode": {
    "name": "ipython",
    "version": 3
   },
   "file_extension": ".py",
   "mimetype": "text/x-python",
   "name": "python",
   "nbconvert_exporter": "python",
   "pygments_lexer": "ipython3",
   "version": "3.9.13"
  }
 },
 "nbformat": 4,
 "nbformat_minor": 5
}
