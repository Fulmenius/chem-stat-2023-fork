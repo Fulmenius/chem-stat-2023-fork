{
 "cells": [
  {
   "cell_type": "markdown",
   "id": "ea174c46",
   "metadata": {},
   "source": [
    "# Занятие 3"
   ]
  },
  {
   "cell_type": "markdown",
   "id": "0b47617f",
   "metadata": {},
   "source": [
    "## Введение"
   ]
  },
  {
   "cell_type": "markdown",
   "id": "d570dd14",
   "metadata": {},
   "source": [
    "Всем привет! Здесь будет материал третьего занятия. "
   ]
  },
  {
   "cell_type": "markdown",
   "id": "1ca5c9d7",
   "metadata": {},
   "source": [
    "В качестве введения давайте рассмотрим следующий пример для погружения в контекст – убедитесь, что вы понимаете все слова в этом введении."
   ]
  },
  {
   "cell_type": "markdown",
   "id": "95e509ca",
   "metadata": {},
   "source": [
    "Предположим, что собрано много различных экспертов, каждому из которых дан индивидуальный статистический материал, на основании которого надо решить задачу корреляционного анализа, с которой вы уже знакомы. Также предположим, что им нужно принять решение об отвержении гипотезы на уровне значимости $5\\%$. В заключение допустим, что все они исследуют случай независимости. Таким образом, мы будем ожидать, что в среднем $5\\%$ экспертов отвергнут верную гипотезу (иными словами *совершат ошибку I рода*)."
   ]
  },
  {
   "cell_type": "markdown",
   "id": "43793419",
   "metadata": {},
   "source": [
    "Пусть $t$ – некоторое положительное значение, при котором соответствующее $P$-значение равно $5\\%$, т. е. $P(r < t) = 0.05$. Для соответствующего отрицательного значения имеем $P(r < -t) = 0.05$."
   ]
  },
  {
   "cell_type": "markdown",
   "id": "2ce49c2e",
   "metadata": {},
   "source": [
    "## Часть 1. Параметрические задачи."
   ]
  },
  {
   "cell_type": "markdown",
   "id": "496715fb",
   "metadata": {},
   "source": [
    "Пусть есть некоторая выборка. В рамках этого задания мы всегда будем предполагать нормальность выборки (иными словами, то, что выборка имеет нормальное распределение)."
   ]
  },
  {
   "cell_type": "markdown",
   "id": "cdea55c2",
   "metadata": {},
   "source": [
    "Также можно думать про это следующим образом: под выборкой будем понимать серию незвисимых изерений некоторой физической величины, т. е. результат измерения можно представить так"
   ]
  },
  {
   "cell_type": "markdown",
   "id": "1e428f8f",
   "metadata": {},
   "source": [
    "$$\n",
    "X = a + \\varepsilon,\n",
    "$$"
   ]
  },
  {
   "cell_type": "markdown",
   "id": "795427a2",
   "metadata": {},
   "source": [
    "где $a$ – истинное значение измеряемой величины (фиксированное, неслучайное, но неизестное заранее); $\\varepsilon$ – погрешность измерения (случайная величина, различная для каждого нового опыта)."
   ]
  },
  {
   "cell_type": "markdown",
   "id": "900caaf9",
   "metadata": {},
   "source": [
    "Давайте теперь представим погрешность измерения $\\varepsilon$ в виде суммы случайной погрешности $\\varepsilon_0$ с нулевым математическим ожиданием и некоторой фиксированной составляющей $\\mathbb{E}\\varepsilon$, которая есть систематическая погрешность:"
   ]
  },
  {
   "cell_type": "markdown",
   "id": "2b3f4d36",
   "metadata": {},
   "source": [
    "$$\n",
    "\\varepsilon = \\varepsilon_0 + \\mathbb{E}\\varepsilon.\n",
    "$$"
   ]
  },
  {
   "cell_type": "markdown",
   "id": "07092103",
   "metadata": {},
   "source": [
    "> Более простым языком: вы проводите серию экспериментов на каком-то приборе. Из-за того, что вы не меняете прибор, на котором проводите ваши испытания, ваша систематическая погрешность не изменяется. При этом у вас всегда присутствует некоторая случайная погрешность, которая отличается от испытания к испытанию. "
   ]
  },
  {
   "cell_type": "markdown",
   "id": "2983ee21",
   "metadata": {},
   "source": [
    "Результат измерения $X$ теперь может быть записан как "
   ]
  },
  {
   "cell_type": "markdown",
   "id": "e9a9fe60",
   "metadata": {},
   "source": [
    "$$\n",
    "X = a + \\varepsilon_0 + \\mathbb{E}\\varepsilon.\n",
    "$$"
   ]
  },
  {
   "cell_type": "markdown",
   "id": "040d4a7a",
   "metadata": {},
   "source": [
    "### 1.1. Нулевая систематическая погрешность. "
   ]
  },
  {
   "cell_type": "markdown",
   "id": "07d4620f",
   "metadata": {},
   "source": [
    "Если $\\mathbb{E}\\varepsilon = 0$, то переходя к математическому ожиданию имеем"
   ]
  },
  {
   "cell_type": "markdown",
   "id": "95e89400",
   "metadata": {},
   "source": [
    "$\n",
    "\\mathbb{E} X = \\mathbb{E} a = a.\n",
    "$"
   ]
  },
  {
   "cell_type": "markdown",
   "id": "10c38c04",
   "metadata": {},
   "source": [
    "Таким образом, задача нахождения истинного значения измеряемой величины сводится к задаче оценки математического ожидания выборки."
   ]
  },
  {
   "cell_type": "markdown",
   "id": "66599903",
   "metadata": {},
   "source": [
    "### 1.2. Ненулевая систематическая погрешность. "
   ]
  },
  {
   "cell_type": "markdown",
   "id": "9f86fb15",
   "metadata": {},
   "source": [
    "Если $\\mathbb{E}\\varepsilon \\neq 0$, то переходя к математическому ожиданию имеем"
   ]
  },
  {
   "cell_type": "markdown",
   "id": "58958ce8",
   "metadata": {},
   "source": [
    "$\n",
    "\\mathbb{E} X = \\mathbb{E} a + \\mathbb{E} \\varepsilon \\neq a.\n",
    "$"
   ]
  },
  {
   "cell_type": "markdown",
   "id": "4e2dab0b",
   "metadata": {},
   "source": [
    "В этом случае ничего хорошего не будет, потому что даже не смотря на то, что мы можем определить $\\mathbb{E}X$, нам этого не хватит. Поэтому важно стараться избавиться от систематической погрешности, когда это возможно. "
   ]
  },
  {
   "cell_type": "markdown",
   "id": "ec91ca04",
   "metadata": {},
   "source": [
    "#### Замечание"
   ]
  },
  {
   "cell_type": "markdown",
   "id": "86698fd3",
   "metadata": {},
   "source": [
    "Переходя к дисперсии всё в том же равенстве, мы получим"
   ]
  },
  {
   "cell_type": "markdown",
   "id": "7240245d",
   "metadata": {},
   "source": [
    "$$\n",
    "D X = D \\varepsilon,\n",
    "$$"
   ]
  },
  {
   "cell_type": "markdown",
   "id": "9923e040",
   "metadata": {},
   "source": [
    "т. е. дисперсия действительно определяет случайных разброс результатов измерения вокруг среднего."
   ]
  },
  {
   "cell_type": "markdown",
   "id": "93c0bf03",
   "metadata": {},
   "source": [
    "## Часть 2. Сравнение дисперсии двух выборок."
   ]
  },
  {
   "cell_type": "markdown",
   "id": "c211407c",
   "metadata": {},
   "source": [
    "Рассмотрим следующие гипотезы:\n",
    "<br>$H_0:$ Выборки имеют равные дисперсии,\n",
    "<br>$H_1:$ Выборки имеют различные дисперсии."
   ]
  },
  {
   "cell_type": "markdown",
   "id": "0a725710",
   "metadata": {},
   "source": [
    "Для проверки равенства дисперсий мы будем проводить $F$-тест или,как его ещё называют, критерий Фишера (или $F$-критерий)."
   ]
  },
  {
   "cell_type": "markdown",
   "id": "7cf408c9",
   "metadata": {},
   "source": [
    "Статистикой критерия является величина $F$, которая есть отношение точечных оценок дисперсий каждой из выборок:\n",
    "$$\n",
    "F = \\dfrac{\\hat{\\sigma}_X^2}{\\hat{\\sigma}_Y^2}\n",
    "$$"
   ]
  },
  {
   "cell_type": "markdown",
   "id": "e4b42b5f",
   "metadata": {},
   "source": [
    "Можно доказать, что если дипесии выборок равны при нормальности выборок, то распределение $F$-статистики известно и зависит только от объёмов выборок."
   ]
  },
  {
   "cell_type": "markdown",
   "id": "be24e72d",
   "metadata": {},
   "source": [
    "В случае различия дисперсий $F$-статистика будет отклоняться."
   ]
  },
  {
   "cell_type": "markdown",
   "id": "eca45754",
   "metadata": {},
   "source": [
    "Для двух выборок объёма $m$ и $n$ нормальных случайных величин $X$ и $Y$ соответственно, $F$-статистика будет иметь распределение Фишера $F(m - 1, n - 1)$."
   ]
  },
  {
   "cell_type": "markdown",
   "id": "c49d3e2b",
   "metadata": {},
   "source": [
    "Займёмся наконец делом. "
   ]
  },
  {
   "cell_type": "code",
   "execution_count": 1,
   "id": "790ebd9f",
   "metadata": {},
   "outputs": [
    {
     "data": {
      "text/html": [
       "<div>\n",
       "<style scoped>\n",
       "    .dataframe tbody tr th:only-of-type {\n",
       "        vertical-align: middle;\n",
       "    }\n",
       "\n",
       "    .dataframe tbody tr th {\n",
       "        vertical-align: top;\n",
       "    }\n",
       "\n",
       "    .dataframe thead th {\n",
       "        text-align: right;\n",
       "    }\n",
       "</style>\n",
       "<table border=\"1\" class=\"dataframe\">\n",
       "  <thead>\n",
       "    <tr style=\"text-align: right;\">\n",
       "      <th></th>\n",
       "      <th>Метод</th>\n",
       "      <th>CuO</th>\n",
       "      <th>Партия</th>\n",
       "      <th>CuSO4</th>\n",
       "      <th>Группа</th>\n",
       "      <th>N</th>\n",
       "      <th>Место</th>\n",
       "      <th>X</th>\n",
       "      <th>Т(С)</th>\n",
       "      <th>Продукт</th>\n",
       "    </tr>\n",
       "  </thead>\n",
       "  <tbody>\n",
       "    <tr>\n",
       "      <th>0</th>\n",
       "      <td>1.0</td>\n",
       "      <td>38.20</td>\n",
       "      <td>1.0</td>\n",
       "      <td>98.2</td>\n",
       "      <td>1.0</td>\n",
       "      <td>9.29</td>\n",
       "      <td>1.0</td>\n",
       "      <td>26.3</td>\n",
       "      <td>20</td>\n",
       "      <td>2.4</td>\n",
       "    </tr>\n",
       "    <tr>\n",
       "      <th>1</th>\n",
       "      <td>1.0</td>\n",
       "      <td>38.00</td>\n",
       "      <td>1.0</td>\n",
       "      <td>98.7</td>\n",
       "      <td>1.0</td>\n",
       "      <td>9.38</td>\n",
       "      <td>1.0</td>\n",
       "      <td>26.6</td>\n",
       "      <td>20</td>\n",
       "      <td>3.3</td>\n",
       "    </tr>\n",
       "    <tr>\n",
       "      <th>2</th>\n",
       "      <td>1.0</td>\n",
       "      <td>37.66</td>\n",
       "      <td>1.0</td>\n",
       "      <td>97.8</td>\n",
       "      <td>1.0</td>\n",
       "      <td>9.35</td>\n",
       "      <td>1.0</td>\n",
       "      <td>26.1</td>\n",
       "      <td>20</td>\n",
       "      <td>3.4</td>\n",
       "    </tr>\n",
       "    <tr>\n",
       "      <th>3</th>\n",
       "      <td>2.0</td>\n",
       "      <td>37.70</td>\n",
       "      <td>2.0</td>\n",
       "      <td>98.1</td>\n",
       "      <td>1.0</td>\n",
       "      <td>9.43</td>\n",
       "      <td>1.0</td>\n",
       "      <td>26.0</td>\n",
       "      <td>20</td>\n",
       "      <td>3.2</td>\n",
       "    </tr>\n",
       "    <tr>\n",
       "      <th>4</th>\n",
       "      <td>2.0</td>\n",
       "      <td>37.65</td>\n",
       "      <td>2.0</td>\n",
       "      <td>97.7</td>\n",
       "      <td>2.0</td>\n",
       "      <td>9.53</td>\n",
       "      <td>1.0</td>\n",
       "      <td>26.9</td>\n",
       "      <td>20</td>\n",
       "      <td>4.4</td>\n",
       "    </tr>\n",
       "  </tbody>\n",
       "</table>\n",
       "</div>"
      ],
      "text/plain": [
       "   Метод    CuO  Партия  CuSO4  Группа     N  Место     X  Т(С)  Продукт\n",
       "0    1.0  38.20     1.0   98.2     1.0  9.29    1.0  26.3    20      2.4\n",
       "1    1.0  38.00     1.0   98.7     1.0  9.38    1.0  26.6    20      3.3\n",
       "2    1.0  37.66     1.0   97.8     1.0  9.35    1.0  26.1    20      3.4\n",
       "3    2.0  37.70     2.0   98.1     1.0  9.43    1.0  26.0    20      3.2\n",
       "4    2.0  37.65     2.0   97.7     2.0  9.53    1.0  26.9    20      4.4"
      ]
     },
     "execution_count": 1,
     "metadata": {},
     "output_type": "execute_result"
    }
   ],
   "source": [
    "import pandas as pd\n",
    "df = pd.read_excel(\"../Data/Comparisons.xls\")\n",
    "df.head()"
   ]
  },
  {
   "cell_type": "code",
   "execution_count": 2,
   "id": "f4d52437",
   "metadata": {},
   "outputs": [
    {
     "data": {
      "text/html": [
       "<div>\n",
       "<style scoped>\n",
       "    .dataframe tbody tr th:only-of-type {\n",
       "        vertical-align: middle;\n",
       "    }\n",
       "\n",
       "    .dataframe tbody tr th {\n",
       "        vertical-align: top;\n",
       "    }\n",
       "\n",
       "    .dataframe thead th {\n",
       "        text-align: right;\n",
       "    }\n",
       "</style>\n",
       "<table border=\"1\" class=\"dataframe\">\n",
       "  <thead>\n",
       "    <tr style=\"text-align: right;\">\n",
       "      <th></th>\n",
       "      <th>Метод</th>\n",
       "      <th>CuO</th>\n",
       "      <th>Партия</th>\n",
       "      <th>CuSO4</th>\n",
       "      <th>Группа</th>\n",
       "      <th>N</th>\n",
       "      <th>Место</th>\n",
       "      <th>X</th>\n",
       "      <th>Т(С)</th>\n",
       "      <th>Продукт</th>\n",
       "    </tr>\n",
       "  </thead>\n",
       "  <tbody>\n",
       "    <tr>\n",
       "      <th>0</th>\n",
       "      <td>1.0</td>\n",
       "      <td>38.20</td>\n",
       "      <td>1.0</td>\n",
       "      <td>98.2</td>\n",
       "      <td>1.0</td>\n",
       "      <td>9.29</td>\n",
       "      <td>1.0</td>\n",
       "      <td>26.3</td>\n",
       "      <td>20</td>\n",
       "      <td>2.4</td>\n",
       "    </tr>\n",
       "    <tr>\n",
       "      <th>1</th>\n",
       "      <td>1.0</td>\n",
       "      <td>38.00</td>\n",
       "      <td>1.0</td>\n",
       "      <td>98.7</td>\n",
       "      <td>1.0</td>\n",
       "      <td>9.38</td>\n",
       "      <td>1.0</td>\n",
       "      <td>26.6</td>\n",
       "      <td>20</td>\n",
       "      <td>3.3</td>\n",
       "    </tr>\n",
       "    <tr>\n",
       "      <th>2</th>\n",
       "      <td>1.0</td>\n",
       "      <td>37.66</td>\n",
       "      <td>1.0</td>\n",
       "      <td>97.8</td>\n",
       "      <td>1.0</td>\n",
       "      <td>9.35</td>\n",
       "      <td>1.0</td>\n",
       "      <td>26.1</td>\n",
       "      <td>20</td>\n",
       "      <td>3.4</td>\n",
       "    </tr>\n",
       "    <tr>\n",
       "      <th>3</th>\n",
       "      <td>2.0</td>\n",
       "      <td>37.70</td>\n",
       "      <td>2.0</td>\n",
       "      <td>98.1</td>\n",
       "      <td>1.0</td>\n",
       "      <td>9.43</td>\n",
       "      <td>1.0</td>\n",
       "      <td>26.0</td>\n",
       "      <td>20</td>\n",
       "      <td>3.2</td>\n",
       "    </tr>\n",
       "    <tr>\n",
       "      <th>4</th>\n",
       "      <td>2.0</td>\n",
       "      <td>37.65</td>\n",
       "      <td>2.0</td>\n",
       "      <td>97.7</td>\n",
       "      <td>2.0</td>\n",
       "      <td>9.53</td>\n",
       "      <td>1.0</td>\n",
       "      <td>26.9</td>\n",
       "      <td>20</td>\n",
       "      <td>4.4</td>\n",
       "    </tr>\n",
       "    <tr>\n",
       "      <th>5</th>\n",
       "      <td>2.0</td>\n",
       "      <td>37.55</td>\n",
       "      <td>2.0</td>\n",
       "      <td>97.3</td>\n",
       "      <td>2.0</td>\n",
       "      <td>9.48</td>\n",
       "      <td>2.0</td>\n",
       "      <td>26.8</td>\n",
       "      <td>20</td>\n",
       "      <td>3.4</td>\n",
       "    </tr>\n",
       "    <tr>\n",
       "      <th>6</th>\n",
       "      <td>NaN</td>\n",
       "      <td>NaN</td>\n",
       "      <td>NaN</td>\n",
       "      <td>NaN</td>\n",
       "      <td>2.0</td>\n",
       "      <td>9.61</td>\n",
       "      <td>2.0</td>\n",
       "      <td>26.1</td>\n",
       "      <td>80</td>\n",
       "      <td>1.7</td>\n",
       "    </tr>\n",
       "    <tr>\n",
       "      <th>7</th>\n",
       "      <td>NaN</td>\n",
       "      <td>NaN</td>\n",
       "      <td>NaN</td>\n",
       "      <td>NaN</td>\n",
       "      <td>2.0</td>\n",
       "      <td>9.68</td>\n",
       "      <td>2.0</td>\n",
       "      <td>25.9</td>\n",
       "      <td>80</td>\n",
       "      <td>1.6</td>\n",
       "    </tr>\n",
       "    <tr>\n",
       "      <th>8</th>\n",
       "      <td>NaN</td>\n",
       "      <td>NaN</td>\n",
       "      <td>NaN</td>\n",
       "      <td>NaN</td>\n",
       "      <td>NaN</td>\n",
       "      <td>NaN</td>\n",
       "      <td>2.0</td>\n",
       "      <td>26.4</td>\n",
       "      <td>80</td>\n",
       "      <td>2.7</td>\n",
       "    </tr>\n",
       "    <tr>\n",
       "      <th>9</th>\n",
       "      <td>NaN</td>\n",
       "      <td>NaN</td>\n",
       "      <td>NaN</td>\n",
       "      <td>NaN</td>\n",
       "      <td>NaN</td>\n",
       "      <td>9.52</td>\n",
       "      <td>2.0</td>\n",
       "      <td>26.6</td>\n",
       "      <td>80</td>\n",
       "      <td>2.2</td>\n",
       "    </tr>\n",
       "    <tr>\n",
       "      <th>10</th>\n",
       "      <td>NaN</td>\n",
       "      <td>NaN</td>\n",
       "      <td>NaN</td>\n",
       "      <td>NaN</td>\n",
       "      <td>NaN</td>\n",
       "      <td>NaN</td>\n",
       "      <td>NaN</td>\n",
       "      <td>NaN</td>\n",
       "      <td>80</td>\n",
       "      <td>2.7</td>\n",
       "    </tr>\n",
       "    <tr>\n",
       "      <th>11</th>\n",
       "      <td>NaN</td>\n",
       "      <td>NaN</td>\n",
       "      <td>NaN</td>\n",
       "      <td>NaN</td>\n",
       "      <td>NaN</td>\n",
       "      <td>NaN</td>\n",
       "      <td>NaN</td>\n",
       "      <td>NaN</td>\n",
       "      <td>80</td>\n",
       "      <td>2.1</td>\n",
       "    </tr>\n",
       "  </tbody>\n",
       "</table>\n",
       "</div>"
      ],
      "text/plain": [
       "    Метод    CuO  Партия  CuSO4  Группа     N  Место     X  Т(С)  Продукт\n",
       "0     1.0  38.20     1.0   98.2     1.0  9.29    1.0  26.3    20      2.4\n",
       "1     1.0  38.00     1.0   98.7     1.0  9.38    1.0  26.6    20      3.3\n",
       "2     1.0  37.66     1.0   97.8     1.0  9.35    1.0  26.1    20      3.4\n",
       "3     2.0  37.70     2.0   98.1     1.0  9.43    1.0  26.0    20      3.2\n",
       "4     2.0  37.65     2.0   97.7     2.0  9.53    1.0  26.9    20      4.4\n",
       "5     2.0  37.55     2.0   97.3     2.0  9.48    2.0  26.8    20      3.4\n",
       "6     NaN    NaN     NaN    NaN     2.0  9.61    2.0  26.1    80      1.7\n",
       "7     NaN    NaN     NaN    NaN     2.0  9.68    2.0  25.9    80      1.6\n",
       "8     NaN    NaN     NaN    NaN     NaN   NaN    2.0  26.4    80      2.7\n",
       "9     NaN    NaN     NaN    NaN     NaN  9.52    2.0  26.6    80      2.2\n",
       "10    NaN    NaN     NaN    NaN     NaN   NaN    NaN   NaN    80      2.7\n",
       "11    NaN    NaN     NaN    NaN     NaN   NaN    NaN   NaN    80      2.1"
      ]
     },
     "metadata": {},
     "output_type": "display_data"
    }
   ],
   "source": [
    "pd.set_option('display.max_rows', 100)\n",
    "display(df)"
   ]
  },
  {
   "attachments": {},
   "cell_type": "markdown",
   "id": "efae81df",
   "metadata": {},
   "source": [
    "**Легенда к заданию.**\n",
    "\n",
    "* Двумя методами измеряли содержание оксида меди в минерале:\n",
    "    * **Метод** – номер метода,\n",
    "    * **CuO** – содержание оксида меди (%).\n",
    "\n",
    "* Измерялось содержание медного купороса в двух партиях товара:\n",
    "    * **Партия** – номер партии,\n",
    "    * **CuSO4**  – содержание медного купороса (%).\n",
    "\n",
    "* Две группы исследователей измеряли содержание азота в одном органическом соединении (правильный результат – внизу столбца N):\n",
    "    * **Группа** – номер группы,\n",
    "    * **N** – содержание азота.\n",
    "\n",
    "* Для проверки гомогенности образца медицинского препарата взяли пробы из верхней и нижней частей контейнера и получили содержание основного компонента:\n",
    "    * **Место** – 1(Верх), 2(Низ),\n",
    "    * **X** – содержание вещества (%).\n",
    "\n",
    "* В технологическом растворе при синтезе красителя определены концентрации продукта (при различной температуре):\n",
    "    * **Т(C)** – температура,\n",
    "    * **Продукт** – концентрация продукта (г/л)."
   ]
  },
  {
   "cell_type": "markdown",
   "id": "b02f0291",
   "metadata": {},
   "source": [
    "*С этих пор я убираю куски про форматирование таблиц, предполагая, что вы этому уже научились.*"
   ]
  },
  {
   "cell_type": "code",
   "execution_count": 3,
   "id": "5a25b1ac",
   "metadata": {},
   "outputs": [
    {
     "name": "stdout",
     "output_type": "stream",
     "text": [
      "<class 'pandas.core.frame.DataFrame'>\n",
      "RangeIndex: 12 entries, 0 to 11\n",
      "Data columns (total 10 columns):\n",
      " #   Column   Non-Null Count  Dtype  \n",
      "---  ------   --------------  -----  \n",
      " 0   Метод    6 non-null      float64\n",
      " 1   CuO      6 non-null      float64\n",
      " 2   Партия   6 non-null      float64\n",
      " 3   CuSO4    6 non-null      float64\n",
      " 4   Группа   8 non-null      float64\n",
      " 5   N        9 non-null      float64\n",
      " 6   Место    10 non-null     float64\n",
      " 7   X        10 non-null     float64\n",
      " 8   Т(С)     12 non-null     int64  \n",
      " 9   Продукт  12 non-null     float64\n",
      "dtypes: float64(9), int64(1)\n",
      "memory usage: 1.1 KB\n"
     ]
    }
   ],
   "source": [
    "df.info()"
   ]
  },
  {
   "cell_type": "code",
   "execution_count": 4,
   "id": "49b567de",
   "metadata": {},
   "outputs": [],
   "source": [
    "df = df.fillna(0)"
   ]
  },
  {
   "cell_type": "markdown",
   "id": "a9debfdb",
   "metadata": {},
   "source": [
    "Посмотрим на описательные статистики нашего датафрейма – это не понадобится нам сегодня явно, но мы делаем это для порядка и закрепления материала."
   ]
  },
  {
   "cell_type": "code",
   "execution_count": 5,
   "id": "e1cb6057",
   "metadata": {},
   "outputs": [
    {
     "data": {
      "text/html": [
       "<div>\n",
       "<style scoped>\n",
       "    .dataframe tbody tr th:only-of-type {\n",
       "        vertical-align: middle;\n",
       "    }\n",
       "\n",
       "    .dataframe tbody tr th {\n",
       "        vertical-align: top;\n",
       "    }\n",
       "\n",
       "    .dataframe thead th {\n",
       "        text-align: right;\n",
       "    }\n",
       "</style>\n",
       "<table border=\"1\" class=\"dataframe\">\n",
       "  <thead>\n",
       "    <tr style=\"text-align: right;\">\n",
       "      <th></th>\n",
       "      <th>Метод</th>\n",
       "      <th>CuO</th>\n",
       "      <th>Партия</th>\n",
       "      <th>CuSO4</th>\n",
       "      <th>Группа</th>\n",
       "      <th>N</th>\n",
       "      <th>Место</th>\n",
       "      <th>X</th>\n",
       "      <th>Т(С)</th>\n",
       "      <th>Продукт</th>\n",
       "    </tr>\n",
       "  </thead>\n",
       "  <tbody>\n",
       "    <tr>\n",
       "      <th>count</th>\n",
       "      <td>12.000000</td>\n",
       "      <td>12.000000</td>\n",
       "      <td>12.000000</td>\n",
       "      <td>12.000000</td>\n",
       "      <td>12.000000</td>\n",
       "      <td>12.000000</td>\n",
       "      <td>12.000000</td>\n",
       "      <td>12.000000</td>\n",
       "      <td>12.000000</td>\n",
       "      <td>12.000000</td>\n",
       "    </tr>\n",
       "    <tr>\n",
       "      <th>mean</th>\n",
       "      <td>0.750000</td>\n",
       "      <td>18.896667</td>\n",
       "      <td>0.750000</td>\n",
       "      <td>48.983333</td>\n",
       "      <td>1.000000</td>\n",
       "      <td>7.105833</td>\n",
       "      <td>1.250000</td>\n",
       "      <td>21.975000</td>\n",
       "      <td>50.000000</td>\n",
       "      <td>2.758333</td>\n",
       "    </tr>\n",
       "    <tr>\n",
       "      <th>std</th>\n",
       "      <td>0.866025</td>\n",
       "      <td>19.737649</td>\n",
       "      <td>0.866025</td>\n",
       "      <td>51.162448</td>\n",
       "      <td>0.852803</td>\n",
       "      <td>4.286317</td>\n",
       "      <td>0.753778</td>\n",
       "      <td>10.269294</td>\n",
       "      <td>31.333978</td>\n",
       "      <td>0.817378</td>\n",
       "    </tr>\n",
       "    <tr>\n",
       "      <th>min</th>\n",
       "      <td>0.000000</td>\n",
       "      <td>0.000000</td>\n",
       "      <td>0.000000</td>\n",
       "      <td>0.000000</td>\n",
       "      <td>0.000000</td>\n",
       "      <td>0.000000</td>\n",
       "      <td>0.000000</td>\n",
       "      <td>0.000000</td>\n",
       "      <td>20.000000</td>\n",
       "      <td>1.600000</td>\n",
       "    </tr>\n",
       "    <tr>\n",
       "      <th>25%</th>\n",
       "      <td>0.000000</td>\n",
       "      <td>0.000000</td>\n",
       "      <td>0.000000</td>\n",
       "      <td>0.000000</td>\n",
       "      <td>0.000000</td>\n",
       "      <td>6.967500</td>\n",
       "      <td>1.000000</td>\n",
       "      <td>25.975000</td>\n",
       "      <td>20.000000</td>\n",
       "      <td>2.175000</td>\n",
       "    </tr>\n",
       "    <tr>\n",
       "      <th>50%</th>\n",
       "      <td>0.500000</td>\n",
       "      <td>18.775000</td>\n",
       "      <td>0.500000</td>\n",
       "      <td>48.650000</td>\n",
       "      <td>1.000000</td>\n",
       "      <td>9.405000</td>\n",
       "      <td>1.000000</td>\n",
       "      <td>26.200000</td>\n",
       "      <td>50.000000</td>\n",
       "      <td>2.700000</td>\n",
       "    </tr>\n",
       "    <tr>\n",
       "      <th>75%</th>\n",
       "      <td>1.250000</td>\n",
       "      <td>37.670000</td>\n",
       "      <td>1.250000</td>\n",
       "      <td>97.875000</td>\n",
       "      <td>2.000000</td>\n",
       "      <td>9.522500</td>\n",
       "      <td>2.000000</td>\n",
       "      <td>26.600000</td>\n",
       "      <td>80.000000</td>\n",
       "      <td>3.325000</td>\n",
       "    </tr>\n",
       "    <tr>\n",
       "      <th>max</th>\n",
       "      <td>2.000000</td>\n",
       "      <td>38.200000</td>\n",
       "      <td>2.000000</td>\n",
       "      <td>98.700000</td>\n",
       "      <td>2.000000</td>\n",
       "      <td>9.680000</td>\n",
       "      <td>2.000000</td>\n",
       "      <td>26.900000</td>\n",
       "      <td>80.000000</td>\n",
       "      <td>4.400000</td>\n",
       "    </tr>\n",
       "  </tbody>\n",
       "</table>\n",
       "</div>"
      ],
      "text/plain": [
       "           Метод        CuO     Партия      CuSO4     Группа          N  \\\n",
       "count  12.000000  12.000000  12.000000  12.000000  12.000000  12.000000   \n",
       "mean    0.750000  18.896667   0.750000  48.983333   1.000000   7.105833   \n",
       "std     0.866025  19.737649   0.866025  51.162448   0.852803   4.286317   \n",
       "min     0.000000   0.000000   0.000000   0.000000   0.000000   0.000000   \n",
       "25%     0.000000   0.000000   0.000000   0.000000   0.000000   6.967500   \n",
       "50%     0.500000  18.775000   0.500000  48.650000   1.000000   9.405000   \n",
       "75%     1.250000  37.670000   1.250000  97.875000   2.000000   9.522500   \n",
       "max     2.000000  38.200000   2.000000  98.700000   2.000000   9.680000   \n",
       "\n",
       "           Место          X       Т(С)    Продукт  \n",
       "count  12.000000  12.000000  12.000000  12.000000  \n",
       "mean    1.250000  21.975000  50.000000   2.758333  \n",
       "std     0.753778  10.269294  31.333978   0.817378  \n",
       "min     0.000000   0.000000  20.000000   1.600000  \n",
       "25%     1.000000  25.975000  20.000000   2.175000  \n",
       "50%     1.000000  26.200000  50.000000   2.700000  \n",
       "75%     2.000000  26.600000  80.000000   3.325000  \n",
       "max     2.000000  26.900000  80.000000   4.400000  "
      ]
     },
     "execution_count": 5,
     "metadata": {},
     "output_type": "execute_result"
    }
   ],
   "source": [
    "df.describe()"
   ]
  },
  {
   "cell_type": "markdown",
   "id": "22ca7541",
   "metadata": {},
   "source": [
    "Теперь же давайте выполним *двухвыборочный $F$-тест* для проверки равенства дисперсии для столбца **N**."
   ]
  },
  {
   "cell_type": "code",
   "execution_count": 6,
   "id": "934babb3",
   "metadata": {},
   "outputs": [],
   "source": [
    "import scipy.stats\n",
    "import numpy as np"
   ]
  },
  {
   "cell_type": "markdown",
   "id": "9e5e9f79",
   "metadata": {},
   "source": [
    "В качестве первого набора данных давайте выберем первую группу, в качестве второго – вторую."
   ]
  },
  {
   "cell_type": "code",
   "execution_count": 8,
   "id": "ba23f6d6",
   "metadata": {},
   "outputs": [
    {
     "name": "stdout",
     "output_type": "stream",
     "text": [
      "0    9.29\n",
      "1    9.38\n",
      "2    9.35\n",
      "3    9.43\n",
      "Name: N, dtype: float64\n",
      "------\n",
      "4    9.53\n",
      "5    9.48\n",
      "6    9.61\n",
      "7    9.68\n",
      "Name: N, dtype: float64\n"
     ]
    }
   ],
   "source": [
    "firstGroupBadWay = df['N'][0:4]\n",
    "secondGroupBadWay = df['N'][4:8]\n",
    "print(firstGroupBadWay)\n",
    "print(\"------\")\n",
    "print(secondGroupBadWay)"
   ]
  },
  {
   "cell_type": "markdown",
   "id": "9b19a0a2",
   "metadata": {},
   "source": [
    "Как вы видите, нам пришлось глазками смотреть на индексы строк, соответсвующие первой и второй группам, что не очень удобно. Кроме того, как быть, если таблица сильно больше а одинаковые группы разбросаны по разным строкам? Конечно, есть более удобный способ выбрать нужные нам значения столбца **N** в зависимости от значения в столбце **Группа**."
   ]
  },
  {
   "cell_type": "code",
   "execution_count": 9,
   "id": "4f5e3444",
   "metadata": {},
   "outputs": [],
   "source": [
    "firstGroup = df.loc[df['Группа'] == 1.0, 'N']\n",
    "secondGroup = df.loc[df['Группа'] == 2.0, 'N']"
   ]
  },
  {
   "cell_type": "code",
   "execution_count": null,
   "id": "9c06dee0",
   "metadata": {},
   "outputs": [],
   "source": [
    "print(firstGroupBa)\n",
    "print(\"-------\")\n",
    "print(secondGroup)"
   ]
  },
  {
   "cell_type": "markdown",
   "id": "a453103c",
   "metadata": {},
   "source": [
    "Как видим, всё в полном порядке."
   ]
  },
  {
   "cell_type": "markdown",
   "id": "b591fb64",
   "metadata": {},
   "source": [
    "Давайте найдём дисперсии выборок. Мы умеем делать это несколькими способами, и вы можете выбрать любой, который нравится вам больше."
   ]
  },
  {
   "cell_type": "code",
   "execution_count": null,
   "id": "da2d70b7",
   "metadata": {},
   "outputs": [],
   "source": [
    "firstVar = np.var(firstGroup, ddof = 1)\n",
    "secondVar = np.var(secondGroup, ddof = 1)\n",
    "print(\"firstGroupVar: \",firstVar)\n",
    "print(\"secondGroupVar: \", secondVar)"
   ]
  },
  {
   "cell_type": "code",
   "execution_count": null,
   "id": "0f35cb6f",
   "metadata": {},
   "outputs": [],
   "source": [
    "print(\"firstGroupVar:\", firstVar)"
   ]
  },
  {
   "cell_type": "markdown",
   "id": "8070827c",
   "metadata": {},
   "source": [
    "Теперь нам нужно найти отношение точечных оценок дисперсий. Например, мы можем сделать это для выборочных дисперсий. "
   ]
  },
  {
   "cell_type": "markdown",
   "id": "06b77aa4",
   "metadata": {},
   "source": [
    "Давайте напишем функцию, которая будет выполнять $F$-тест для проверки равенства дисперсий двух выборок – убедитесь, что вы понимаете, почему это именно такая функци."
   ]
  },
  {
   "cell_type": "code",
   "execution_count": null,
   "id": "92317bba",
   "metadata": {},
   "outputs": [],
   "source": [
    "def fTest(firstSample, secondSample):\n",
    "    firstSample = np.array(firstSample)\n",
    "    secondSample = np.array(secondSample)\n",
    "    f = np.var(firstSample, ddof=1) / np.var(secondGroup, ddof=1)\n",
    "    dfn = firstGroup.size - 1\n",
    "    dfd = secondGroup.size - 1\n",
    "    p = 1 - scipy.stats.f.cdf(f, dfn, dfd)\n",
    "    return (f, p)"
   ]
  },
  {
   "cell_type": "markdown",
   "id": "ea99b22f",
   "metadata": {},
   "source": [
    "> В особенности интересует эта строка `p = 1 - scipy.stats.f.cdf(f, dfn, dfd)`. Пожалуйста, в выполненном задании напишите текстом разбор этой строки в духе: \"Так как P-значение – это то-то, то мы должны сделать то-то, чтобы получилось то-то.\""
   ]
  },
  {
   "cell_type": "markdown",
   "id": "0b27c420",
   "metadata": {},
   "source": [
    "Выполним наконец $F$-тест для проверки дисперсий наших выборок."
   ]
  },
  {
   "cell_type": "code",
   "execution_count": null,
   "id": "cdc2378f",
   "metadata": {},
   "outputs": [],
   "source": [
    "f, pValue = fTest(firstGroup, secondGroup)\n",
    "print(\"F:\", f)\n",
    "print(\"P-value:\", pValue)"
   ]
  },
  {
   "cell_type": "markdown",
   "id": "f8a3a8d9",
   "metadata": {},
   "source": [
    "## Часть 3. Сравнение средних двух выборок."
   ]
  },
  {
   "cell_type": "markdown",
   "id": "215ec55b",
   "metadata": {},
   "source": [
    "Для сравнения средних двух выборок можно использовать критерий Стьюдента (или, как его ещё называют, $t$-тест)."
   ]
  },
  {
   "cell_type": "markdown",
   "id": "f2299b18",
   "metadata": {},
   "source": [
    "Стоит отметить, что классический критерий Стьюдента использует предположение о том, что дисперсии равны."
   ]
  },
  {
   "cell_type": "markdown",
   "id": "6a0cab3f",
   "metadata": {},
   "source": [
    "Рассмотрим следующие гипотезы:\n",
    "<br>$H_0:$ Выборки имеют равные средние,\n",
    "<br>$H_1:$ Выборки имеют различные средние."
   ]
  },
  {
   "cell_type": "markdown",
   "id": "a786feb0",
   "metadata": {},
   "source": [
    "Пусть есть две независимые нормальные выборки объёма $n_1$ и $n_2$. В случае совпадения дисперсий статистика критерия имеет вид"
   ]
  },
  {
   "cell_type": "markdown",
   "id": "d08279b7",
   "metadata": {},
   "source": [
    "$$\n",
    "t = \\frac{\\overline X_1 - \\overline X_2}{s_X \\sqrt{\\frac{1}{n_1}+\\frac{1}{n_2}}} ~,~~s_X=\\sqrt {\\frac{(n_1 - 1)s_1^2 + (n_2 - 1)s_2^2}{n_1 + n_2 - 2}},\n",
    "$$\n",
    "где $s$ – несмещённая оценка дисперсии:\n",
    "$$\n",
    "s^2=\\frac {\\sum^n_{t=1}(X_t-\\overline X)^2}{n-1}\n",
    "$$"
   ]
  },
  {
   "cell_type": "markdown",
   "id": "8a079bc0",
   "metadata": {},
   "source": [
    "Отметим также, что эта статистика имеет распределение Стьюдента $t(n_1 + n_2 - 2)$."
   ]
  },
  {
   "cell_type": "markdown",
   "id": "89e2b2e3",
   "metadata": {},
   "source": [
    "Так как мы не отвергли гипотезу о совпадении дисперсий, давайте выполним $t$-тест для тех же групп."
   ]
  },
  {
   "cell_type": "code",
   "execution_count": null,
   "id": "029cb729",
   "metadata": {},
   "outputs": [],
   "source": [
    "scipy.stats.ttest_ind(firstGroup, secondGroup)"
   ]
  },
  {
   "cell_type": "markdown",
   "id": "f416351c",
   "metadata": {},
   "source": [
    "Что мы видим? Значение статистики достаточно сильно отклоняется от нуля (отрицательно же оно потому, что в качестве первой выборки мы взяли выборки с меньшим значением среднего). Очень маленькое (к слову, двухстороннее) $P$-значение подтверждает это. Какой вывод из этого следует? Что мы можем отклонить гипотезу о равенстве средних. Вероятность ошибиться при этом очень и очень мала. "
   ]
  },
  {
   "cell_type": "markdown",
   "id": "4d85416e",
   "metadata": {},
   "source": [
    "## Часть 4. Двухвыборочный t-тест."
   ]
  },
  {
   "cell_type": "markdown",
   "id": "f5c26f20",
   "metadata": {},
   "source": [
    "Здесь мы не будем глубоко вдаваться в теоретическое обоснование. Вместо этого проведём необходимые вычисления."
   ]
  },
  {
   "cell_type": "code",
   "execution_count": null,
   "id": "4cf7e7c1",
   "metadata": {},
   "outputs": [],
   "source": [
    "dfFilter = pd.read_excel(\"../Data/Filter.xls\")"
   ]
  },
  {
   "cell_type": "code",
   "execution_count": null,
   "id": "b49cad8e",
   "metadata": {},
   "outputs": [],
   "source": [
    "display(dfFilter)"
   ]
  },
  {
   "cell_type": "code",
   "execution_count": null,
   "id": "d5bf0015",
   "metadata": {},
   "outputs": [],
   "source": [
    "dfFilter.info()"
   ]
  },
  {
   "cell_type": "code",
   "execution_count": null,
   "id": "98ce183c",
   "metadata": {},
   "outputs": [],
   "source": [
    "scipy.stats.ttest_rel(dfFilter['До'], dfFilter['После'])"
   ]
  },
  {
   "cell_type": "markdown",
   "id": "913da507",
   "metadata": {},
   "source": [
    "Видим, что $P$-значение достаточно мало. Следовательно, мы можем отвергнуть гипотезу о том, что результаты **До** и **После** результат фильтрации существенен."
   ]
  },
  {
   "cell_type": "code",
   "execution_count": null,
   "id": "14b19863",
   "metadata": {},
   "outputs": [],
   "source": [
    "print(dfFilter['До'].mean())\n",
    "print(dfFilter['После'].mean())"
   ]
  },
  {
   "cell_type": "markdown",
   "id": "78d61284",
   "metadata": {},
   "source": [
    "## Часть 5. Проверка на равенство среднего определённому числу."
   ]
  },
  {
   "cell_type": "markdown",
   "id": "fa176fbb",
   "metadata": {},
   "source": [
    "Вернёмся к файлу, где были содержания. "
   ]
  },
  {
   "cell_type": "code",
   "execution_count": null,
   "id": "64eea7a9",
   "metadata": {},
   "outputs": [],
   "source": [
    "dfContents = pd.read_excel(\"../Data/Contents.xls\")"
   ]
  },
  {
   "cell_type": "markdown",
   "id": "9ed43f6b",
   "metadata": {},
   "source": [
    "Я почистил лишние строки в нём."
   ]
  },
  {
   "cell_type": "code",
   "execution_count": null,
   "id": "0fde95ac",
   "metadata": {},
   "outputs": [],
   "source": [
    "display(dfContents)"
   ]
  },
  {
   "cell_type": "code",
   "execution_count": null,
   "id": "f68ad997",
   "metadata": {},
   "outputs": [],
   "source": [
    "dfContents.info()"
   ]
  },
  {
   "cell_type": "code",
   "execution_count": null,
   "id": "1919ed70",
   "metadata": {},
   "outputs": [],
   "source": [
    "scipy.stats.ttest_1samp(dfContents['Sn'], 0.26)"
   ]
  },
  {
   "cell_type": "markdown",
   "id": "d2692415",
   "metadata": {},
   "source": [
    "Видим, что отклонение очень маленькое, и $P$-значение очень большое. Значит, гипотеза о равенстве среднего заданному числу ($0.26$) принимается. "
   ]
  },
  {
   "cell_type": "code",
   "execution_count": null,
   "id": "1a93c71a",
   "metadata": {},
   "outputs": [],
   "source": [
    "scipy.stats.ttest_1samp(dfContents['FeO'], 0.26)"
   ]
  },
  {
   "cell_type": "markdown",
   "id": "86768b05",
   "metadata": {},
   "source": [
    "Что тут? Отклонение очень большое, а $P$-значение почти что ноль."
   ]
  },
  {
   "cell_type": "code",
   "execution_count": null,
   "id": "ca7bdb62",
   "metadata": {},
   "outputs": [],
   "source": [
    "dfContents['FeO'].mean()"
   ]
  },
  {
   "cell_type": "markdown",
   "id": "221da6e2",
   "metadata": {},
   "source": [
    "Давайте посмотрим гипотезу на равенство среднего последней выборки числу $6$."
   ]
  },
  {
   "cell_type": "code",
   "execution_count": null,
   "id": "bbdef98b",
   "metadata": {},
   "outputs": [],
   "source": [
    "scipy.stats.ttest_1samp(dfContents['FeO'], 6.0)"
   ]
  },
  {
   "cell_type": "markdown",
   "id": "763db452",
   "metadata": {},
   "source": [
    "Что видим? Маленько отклонение и большое $P$-значение. Следовательно, мы принимаем гипотезу о равенстве среднего заданному числу. "
   ]
  },
  {
   "cell_type": "markdown",
   "id": "6d163b24",
   "metadata": {},
   "source": [
    "Для забавы давайте посмотри, что будет, если проверить среднее на равенство точному значению среднего."
   ]
  },
  {
   "cell_type": "code",
   "execution_count": null,
   "id": "b04e1b6d",
   "metadata": {},
   "outputs": [],
   "source": [
    "scipy.stats.ttest_1samp(dfContents['FeO'], 6.117)"
   ]
  },
  {
   "cell_type": "markdown",
   "id": "2925e85a",
   "metadata": {},
   "source": [
    "Как и ожидалось, отклонение почти что ноль при малом $P$-значении."
   ]
  },
  {
   "cell_type": "markdown",
   "id": "826f2a82",
   "metadata": {},
   "source": [
    "## Задача."
   ]
  },
  {
   "cell_type": "markdown",
   "id": "db2ba244",
   "metadata": {},
   "source": [
    "Выполнить своё индивидуальное задание."
   ]
  }
 ],
 "metadata": {
  "kernelspec": {
   "display_name": "Python 3 (ipykernel)",
   "language": "python",
   "name": "python3"
  },
  "language_info": {
   "codemirror_mode": {
    "name": "ipython",
    "version": 3
   },
   "file_extension": ".py",
   "mimetype": "text/x-python",
   "name": "python",
   "nbconvert_exporter": "python",
   "pygments_lexer": "ipython3",
   "version": "3.9.13"
  }
 },
 "nbformat": 4,
 "nbformat_minor": 5
}
